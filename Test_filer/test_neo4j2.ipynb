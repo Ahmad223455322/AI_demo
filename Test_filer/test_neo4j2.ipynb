{
 "cells": [
  {
   "cell_type": "code",
   "execution_count": 79,
   "metadata": {},
   "outputs": [],
   "source": [
    "from neo4j import GraphDatabase\n"
   ]
  },
  {
   "cell_type": "code",
   "execution_count": 80,
   "metadata": {},
   "outputs": [],
   "source": [
    "graph_db =  GraphDatabase.driver(uri = \"neo4j+s://2fcdc155.databases.neo4j.io\", auth=(\"neo4j\", \"A_U3flMZbwvCoo29sYbgO5b5vmu085z4xH7V0rXakCw\"))"
   ]
  },
  {
   "cell_type": "code",
   "execution_count": 81,
   "metadata": {},
   "outputs": [
    {
     "data": {
      "text/plain": [
       "<neo4j._sync.driver.Neo4jDriver at 0x255a5ad00a0>"
      ]
     },
     "execution_count": 81,
     "metadata": {},
     "output_type": "execute_result"
    }
   ],
   "source": [
    "graph_db"
   ]
  },
  {
   "cell_type": "code",
   "execution_count": 82,
   "metadata": {},
   "outputs": [],
   "source": [
    "session = graph_db.session()"
   ]
  },
  {
   "cell_type": "code",
   "execution_count": 83,
   "metadata": {},
   "outputs": [],
   "source": [
    "# # crete with name\n",
    "# q_1= \"MATCH (p:Person {name: 'Jennifer'}) SET p.birthdate = date('1980-01-01') RETURN p\"\n",
    "# session.run(q_1)\n",
    "\n",
    "\n",
    "#skapa relation \n",
    "# q_1= \"MATCH (jennifer:Person {name: 'Jennifer'}) MATCH (mark:Person {name: 'Mark'}) CREATE (mark)-[rel:IS_FRIENDS_WITH]->(jennifer)\"\n",
    "# session.run(q_1)\n",
    "\n",
    "\n",
    "# lägger till ny värde\n",
    "# q_1= \"MATCH (p:Person {name: 'Jennifer'}) SET p.birthdate = date('1980-01-01') RETURN p\"\n",
    "# session.run(q_1)\n",
    "\n",
    "\n",
    "# #create \n",
    "# q_1= \"CREATE (test:Byggnad {name: 'Addiva'})\"\n",
    "# #uppdate\n",
    "# q_2= \"MATCH (n:Room {name: 'K1',data: '22'}) SET n.name ='name:K2' RETURN n\"\n",
    "# #delete\n",
    "# q_3 = \"MATCH (n:Room {name: 'K1'}) DELETE n\"\n",
    "# #relation\n",
    "# q_4= \"MATCH (a:Room),(b:Byggnad) WHERE a.name = 'K3' AND b.name = 'Addiva' CREATE (a)-[r: innehåller]->(b) RETURN type(r)\"\n",
    "\n",
    "\n",
    "q_1= \"CREATE (n:Person:Swedish)\"\n",
    "q_1= \"CREATE (n:Person {name: 'Andy', title: 'Developer'})\""
   ]
  },
  {
   "cell_type": "code",
   "execution_count": 90,
   "metadata": {},
   "outputs": [
    {
     "data": {
      "text/plain": [
       "<neo4j._sync.work.result.Result at 0x255a5ce4160>"
      ]
     },
     "execution_count": 90,
     "metadata": {},
     "output_type": "execute_result"
    }
   ],
   "source": [
    "# neo4j_create_statemenet = \"create (t:Transaction {transaction_id:\" + str(i[0]) +\", vendor_number:  \" + str(i[1]) +\", transaction_amount: \" + str(i[2]) +\", transaction_type: '\" + str(i[3]) + \"'})\"\n",
    "# neo4j_create_statemenet = \"create (v:ventilation {name:'tilluft' , ventilaton_nr: '\" + str(node) + \"'})\"\n",
    "\n",
    "q_1=\"CREATE (tg:Temprature_givare {name: 'GT:12-TA12:3'})\"\n",
    "q_2=\"CREATE (s:Spjäll {name: 'BSPJ2'})\"\n",
    "q_3=\"CREATE (s:Spjäll {name: 'BSPJ3'})\"\n",
    "q_4=\"CREATE (s:Spjäll {name: 'BSPJ4'})\"\n",
    "q_5=\"CREATE (s:Spjäll {name: 'BSPJ5'})\"\n",
    "q_6=\"CREATE (s:Spjäll {name: 'BSPJ6'})\"\n",
    "q_7 = \"MATCH (a:Temprature_givare),(b:Fläktaggregat ) WHERE a.name = 'GT:12-TA12:3' AND b.name = 'TA12' CREATE (b)-[r:Mäter_temp]->(a) RETURN type(r)\"\n",
    "session.run(q_7)\n",
    "\n",
    "# lista=[q_1,q_2,q_3,q_4,q_5,q_6]\n",
    "\n",
    "# for node in lista:\n",
    "#     session.run(node)\n",
    "\n",
    "\n",
    "\n",
    "# for node in range(1,18):\n",
    "#     neo4j_create_statemenet = \"create (v:passiv {name:'Passiv_frånluft' , PFL_nr: '\" + str(node) + \"'})\"\n",
    "#     session.run(neo4j_create_statemenet)\n",
    "\n",
    "\n",
    "\n",
    "\n",
    "\n",
    "\n",
    "\n"
   ]
  }
 ],
 "metadata": {
  "kernelspec": {
   "display_name": "Python 3.10.8 ('env': venv)",
   "language": "python",
   "name": "python3"
  },
  "language_info": {
   "codemirror_mode": {
    "name": "ipython",
    "version": 3
   },
   "file_extension": ".py",
   "mimetype": "text/x-python",
   "name": "python",
   "nbconvert_exporter": "python",
   "pygments_lexer": "ipython3",
   "version": "3.10.8"
  },
  "orig_nbformat": 4,
  "vscode": {
   "interpreter": {
    "hash": "24b2516218f01c8cdf8c63b4b81a21b8a28a7afd0d34805806f72160f6e0c712"
   }
  }
 },
 "nbformat": 4,
 "nbformat_minor": 2
}
