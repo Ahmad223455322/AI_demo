{
 "cells": [
  {
   "cell_type": "code",
   "execution_count": 71,
   "metadata": {},
   "outputs": [],
   "source": [
    "import requests\n",
    "import pandas as pd\n"
   ]
  },
  {
   "cell_type": "code",
   "execution_count": 72,
   "metadata": {},
   "outputs": [
    {
     "name": "stdout",
     "output_type": "stream",
     "text": [
      "Vallby 2022-11-14T18:20:02.000+01:00 6.8 98.5 None Ingen nederbörd\n"
     ]
    }
   ],
   "source": [
    "import requests\n",
    "import pandas as pd\n",
    "\n",
    "data = \"\"\"\n",
    "<REQUEST>\n",
    "      <LOGIN authenticationkey=\"8c981e556ca74fa7b2128c113e4eeb8c\" />\n",
    "      <QUERY objecttype=\"WeatherStation\" schemaversion=\"1\">\n",
    "            <FILTER>\n",
    "                  <EQ name=\"Name\" value=\"Vallby\" />\n",
    "            </FILTER>            \n",
    "            <INCLUDE>Name</INCLUDE>\n",
    "            <INCLUDE>Measurement.Air.Temp</INCLUDE>\n",
    "            <INCLUDE>Measurement.MeasureTime</INCLUDE>\n",
    "            <INCLUDE>Measurement.Air.RelativeHumidity</INCLUDE>\n",
    "            <INCLUDE>Measurement.Precipitation.AmountName</INCLUDE>\n",
    "            <INCLUDE>Measurement.Precipitation.Amount</INCLUDE>\n",
    "      </QUERY>\n",
    "</REQUEST>\n",
    "\"\"\"\n",
    "data = data.encode('utf8')\n",
    "response = requests.post('https://api.trafikinfo.trafikverket.se/v2/data.json', data=data, headers={'Content-Type': 'text/xml'}).json()\n",
    "\n",
    "results = response.get('RESPONSE')\n",
    "nestedDict = results.get(\"RESULT\")\n",
    "nestedList = nestedDict[0].get(\"WeatherStation\")\n",
    "measurement = nestedList[0]\n",
    "stationData = measurement.get(\"Measurement\")\n",
    "measureTime = stationData.get(\"MeasureTime\")\n",
    "airInformation = stationData.get(\"Air\")\n",
    "airTemperature = airInformation.get(\"Temp\")\n",
    "airRelativeHumidity = airInformation.get(\"RelativeHumidity\")\n",
    "precipitation = stationData.get(\"Precipitation\")\n",
    "donwfall = precipitation.get(\"Amount\")\n",
    "donwfallType = precipitation.get(\"AmountName\")\n",
    "stationName = measurement.get(\"Name\")\n",
    "\n",
    "print(stationName,measureTime,airTemperature,airRelativeHumidity,donwfall,donwfallType)"
   ]
  },
  {
   "cell_type": "code",
   "execution_count": null,
   "metadata": {},
   "outputs": [],
   "source": []
  },
  {
   "cell_type": "code",
   "execution_count": null,
   "metadata": {},
   "outputs": [],
   "source": []
  },
  {
   "cell_type": "code",
   "execution_count": null,
   "metadata": {},
   "outputs": [],
   "source": []
  },
  {
   "cell_type": "code",
   "execution_count": null,
   "metadata": {},
   "outputs": [],
   "source": [
    "\n"
   ]
  },
  {
   "cell_type": "code",
   "execution_count": null,
   "metadata": {},
   "outputs": [],
   "source": []
  },
  {
   "cell_type": "code",
   "execution_count": null,
   "metadata": {},
   "outputs": [],
   "source": []
  },
  {
   "cell_type": "code",
   "execution_count": null,
   "metadata": {},
   "outputs": [],
   "source": []
  }
 ],
 "metadata": {
  "kernelspec": {
   "display_name": "Python 3.9.7 ('env': venv)",
   "language": "python",
   "name": "python3"
  },
  "language_info": {
   "codemirror_mode": {
    "name": "ipython",
    "version": 3
   },
   "file_extension": ".py",
   "mimetype": "text/x-python",
   "name": "python",
   "nbconvert_exporter": "python",
   "pygments_lexer": "ipython3",
   "version": "3.9.7"
  },
  "orig_nbformat": 4,
  "vscode": {
   "interpreter": {
    "hash": "0a3512a2b9895ee58d119dc2d16d7c0959284d5d5db887d8c103a7fc8b777151"
   }
  }
 },
 "nbformat": 4,
 "nbformat_minor": 2
}
