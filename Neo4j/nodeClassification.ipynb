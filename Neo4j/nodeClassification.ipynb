{
 "cells": [
  {
   "cell_type": "code",
   "execution_count": 1,
   "metadata": {},
   "outputs": [],
   "source": [
    "import pandas as pd\n",
    "from neo4j import GraphDatabase\n",
    "from graphdatascience import GraphDataScience\n",
    "\n"
   ]
  },
  {
   "cell_type": "code",
   "execution_count": 3,
   "metadata": {},
   "outputs": [],
   "source": [
    "graph_db =  GraphDatabase.driver(uri = \"bolt://localhost:7687\", auth=(\"neo4j\", \"password\"))"
   ]
  },
  {
   "cell_type": "code",
   "execution_count": 5,
   "metadata": {},
   "outputs": [],
   "source": [
    "URI  = \"bolt://localhost:7687\"\n",
    "creds=(\"neo4j\", \"password\")\n",
    "\n",
    "gds =  GraphDataScience(URI,auth=(creds ))\n",
    "\n"
   ]
  },
  {
   "cell_type": "code",
   "execution_count": 236,
   "metadata": {},
   "outputs": [
    {
     "data": {
      "text/html": [
       "<div>\n",
       "<style scoped>\n",
       "    .dataframe tbody tr th:only-of-type {\n",
       "        vertical-align: middle;\n",
       "    }\n",
       "\n",
       "    .dataframe tbody tr th {\n",
       "        vertical-align: top;\n",
       "    }\n",
       "\n",
       "    .dataframe thead th {\n",
       "        text-align: right;\n",
       "    }\n",
       "</style>\n",
       "<table border=\"1\" class=\"dataframe\">\n",
       "  <thead>\n",
       "    <tr style=\"text-align: right;\">\n",
       "      <th></th>\n",
       "      <th>graphName</th>\n",
       "      <th>database</th>\n",
       "      <th>memoryUsage</th>\n",
       "      <th>sizeInBytes</th>\n",
       "      <th>nodeCount</th>\n",
       "      <th>relationshipCount</th>\n",
       "      <th>configuration</th>\n",
       "      <th>density</th>\n",
       "      <th>creationTime</th>\n",
       "      <th>modificationTime</th>\n",
       "      <th>schema</th>\n",
       "    </tr>\n",
       "  </thead>\n",
       "  <tbody>\n",
       "    <tr>\n",
       "      <th>0</th>\n",
       "      <td>myGraph_1</td>\n",
       "      <td>neo4j</td>\n",
       "      <td></td>\n",
       "      <td>-1</td>\n",
       "      <td>61</td>\n",
       "      <td>100</td>\n",
       "      <td>{}</td>\n",
       "      <td>0.027322</td>\n",
       "      <td>2022-11-10T14:15:03.083611700+01:00</td>\n",
       "      <td>2022-11-10T14:15:03.098596800+01:00</td>\n",
       "      <td>{'graphProperties': {}, 'relationships': {'__A...</td>\n",
       "    </tr>\n",
       "  </tbody>\n",
       "</table>\n",
       "</div>"
      ],
      "text/plain": [
       "   graphName database memoryUsage  sizeInBytes  nodeCount  relationshipCount  \\\n",
       "0  myGraph_1    neo4j                       -1         61                100   \n",
       "\n",
       "  configuration   density                         creationTime  \\\n",
       "0            {}  0.027322  2022-11-10T14:15:03.083611700+01:00   \n",
       "\n",
       "                      modificationTime  \\\n",
       "0  2022-11-10T14:15:03.098596800+01:00   \n",
       "\n",
       "                                              schema  \n",
       "0  {'graphProperties': {}, 'relationships': {'__A...  "
      ]
     },
     "metadata": {},
     "output_type": "display_data"
    }
   ],
   "source": [
    "result = gds.run_cypher(\n",
    "  \"\"\"\n",
    "    CALL gds.graph.drop('myGraph_1')\n",
    "  \"\"\"\n",
    ")\n",
    "display(result)"
   ]
  },
  {
   "cell_type": "code",
   "execution_count": 237,
   "metadata": {},
   "outputs": [
    {
     "data": {
      "text/html": [
       "<div>\n",
       "<style scoped>\n",
       "    .dataframe tbody tr th:only-of-type {\n",
       "        vertical-align: middle;\n",
       "    }\n",
       "\n",
       "    .dataframe tbody tr th {\n",
       "        vertical-align: top;\n",
       "    }\n",
       "\n",
       "    .dataframe thead th {\n",
       "        text-align: right;\n",
       "    }\n",
       "</style>\n",
       "<table border=\"1\" class=\"dataframe\">\n",
       "  <thead>\n",
       "    <tr style=\"text-align: right;\">\n",
       "      <th></th>\n",
       "      <th>nodeProjection</th>\n",
       "      <th>relationshipProjection</th>\n",
       "      <th>graphName</th>\n",
       "      <th>nodeCount</th>\n",
       "      <th>relationshipCount</th>\n",
       "      <th>projectMillis</th>\n",
       "    </tr>\n",
       "  </thead>\n",
       "  <tbody>\n",
       "    <tr>\n",
       "      <th>0</th>\n",
       "      <td>{'Aggregat': {'label': 'Aggregat', 'properties...</td>\n",
       "      <td>{'__ALL__': {'orientation': 'NATURAL', 'aggreg...</td>\n",
       "      <td>myGraph_1</td>\n",
       "      <td>61</td>\n",
       "      <td>100</td>\n",
       "      <td>11</td>\n",
       "    </tr>\n",
       "  </tbody>\n",
       "</table>\n",
       "</div>"
      ],
      "text/plain": [
       "                                      nodeProjection  \\\n",
       "0  {'Aggregat': {'label': 'Aggregat', 'properties...   \n",
       "\n",
       "                              relationshipProjection  graphName  nodeCount  \\\n",
       "0  {'__ALL__': {'orientation': 'NATURAL', 'aggreg...  myGraph_1         61   \n",
       "\n",
       "   relationshipCount  projectMillis  \n",
       "0                100             11  "
      ]
     },
     "metadata": {},
     "output_type": "display_data"
    }
   ],
   "source": [
    "result = gds.run_cypher(\n",
    "  \"\"\"\n",
    "CALL gds.graph.project('myGraph_1', {\n",
    "    Aggregat: { properties: 'class' },\n",
    "    supply_air_unit: { properties: 'class' },\n",
    "    exhuset_air_unit: { properties: 'class' },\n",
    "    Hub: { properties: 'class' },\n",
    "    Tilluft_ventil: { properties: 'class' },\n",
    "    Frånluft_ventil: { properties: 'class' },\n",
    "     Sensor: { properties: 'class' },\n",
    "     Zon: { properties: 'class' },\n",
    "      Room: { properties: 'class' }\n",
    "  },\n",
    "  '*'\n",
    ")\n",
    "  \"\"\"\n",
    ")\n",
    "display(result)"
   ]
  },
  {
   "cell_type": "code",
   "execution_count": 238,
   "metadata": {},
   "outputs": [
    {
     "data": {
      "text/html": [
       "<div>\n",
       "<style scoped>\n",
       "    .dataframe tbody tr th:only-of-type {\n",
       "        vertical-align: middle;\n",
       "    }\n",
       "\n",
       "    .dataframe tbody tr th {\n",
       "        vertical-align: top;\n",
       "    }\n",
       "\n",
       "    .dataframe thead th {\n",
       "        text-align: right;\n",
       "    }\n",
       "</style>\n",
       "<table border=\"1\" class=\"dataframe\">\n",
       "  <thead>\n",
       "    <tr style=\"text-align: right;\">\n",
       "      <th></th>\n",
       "      <th>degreeDistribution</th>\n",
       "      <th>graphName</th>\n",
       "      <th>database</th>\n",
       "      <th>memoryUsage</th>\n",
       "      <th>sizeInBytes</th>\n",
       "      <th>nodeCount</th>\n",
       "      <th>relationshipCount</th>\n",
       "      <th>configuration</th>\n",
       "      <th>density</th>\n",
       "      <th>creationTime</th>\n",
       "      <th>modificationTime</th>\n",
       "      <th>schema</th>\n",
       "    </tr>\n",
       "  </thead>\n",
       "  <tbody>\n",
       "    <tr>\n",
       "      <th>0</th>\n",
       "      <td>{'p99': 6, 'min': 0, 'max': 9, 'mean': 1.63934...</td>\n",
       "      <td>myGraph_1</td>\n",
       "      <td>neo4j</td>\n",
       "      <td>337 KiB</td>\n",
       "      <td>345736</td>\n",
       "      <td>61</td>\n",
       "      <td>100</td>\n",
       "      <td>{'relationshipProjection': {'__ALL__': {'orien...</td>\n",
       "      <td>0.027322</td>\n",
       "      <td>2022-11-10T14:19:39.215204000+01:00</td>\n",
       "      <td>2022-11-10T14:19:39.226201200+01:00</td>\n",
       "      <td>{'graphProperties': {}, 'relationships': {'__A...</td>\n",
       "    </tr>\n",
       "  </tbody>\n",
       "</table>\n",
       "</div>"
      ],
      "text/plain": [
       "                                  degreeDistribution  graphName database  \\\n",
       "0  {'p99': 6, 'min': 0, 'max': 9, 'mean': 1.63934...  myGraph_1    neo4j   \n",
       "\n",
       "  memoryUsage  sizeInBytes  nodeCount  relationshipCount  \\\n",
       "0     337 KiB       345736         61                100   \n",
       "\n",
       "                                       configuration   density  \\\n",
       "0  {'relationshipProjection': {'__ALL__': {'orien...  0.027322   \n",
       "\n",
       "                          creationTime                     modificationTime  \\\n",
       "0  2022-11-10T14:19:39.215204000+01:00  2022-11-10T14:19:39.226201200+01:00   \n",
       "\n",
       "                                              schema  \n",
       "0  {'graphProperties': {}, 'relationships': {'__A...  "
      ]
     },
     "metadata": {},
     "output_type": "display_data"
    }
   ],
   "source": [
    "\n",
    "result = gds.run_cypher(\n",
    "  \"\"\"\n",
    "    CALL gds.graph.list()\n",
    "  \"\"\"\n",
    ")\n",
    "display(result)"
   ]
  },
  {
   "cell_type": "code",
   "execution_count": 193,
   "metadata": {},
   "outputs": [
    {
     "data": {
      "text/html": [
       "<div>\n",
       "<style scoped>\n",
       "    .dataframe tbody tr th:only-of-type {\n",
       "        vertical-align: middle;\n",
       "    }\n",
       "\n",
       "    .dataframe tbody tr th {\n",
       "        vertical-align: top;\n",
       "    }\n",
       "\n",
       "    .dataframe thead th {\n",
       "        text-align: right;\n",
       "    }\n",
       "</style>\n",
       "<table border=\"1\" class=\"dataframe\">\n",
       "  <thead>\n",
       "    <tr style=\"text-align: right;\">\n",
       "      <th></th>\n",
       "      <th>name</th>\n",
       "      <th>nodePropertySteps</th>\n",
       "      <th>featureProperties</th>\n",
       "      <th>splitConfig</th>\n",
       "      <th>autoTuningConfig</th>\n",
       "      <th>parameterSpace</th>\n",
       "    </tr>\n",
       "  </thead>\n",
       "  <tbody>\n",
       "    <tr>\n",
       "      <th>0</th>\n",
       "      <td>pipe_6</td>\n",
       "      <td>[]</td>\n",
       "      <td>[]</td>\n",
       "      <td>{'testFraction': 0.3, 'validationFolds': 3}</td>\n",
       "      <td>{'maxTrials': 10}</td>\n",
       "      <td>{'MultilayerPerceptron': [], 'RandomForest': [...</td>\n",
       "    </tr>\n",
       "  </tbody>\n",
       "</table>\n",
       "</div>"
      ],
      "text/plain": [
       "     name nodePropertySteps featureProperties  \\\n",
       "0  pipe_6                []                []   \n",
       "\n",
       "                                   splitConfig   autoTuningConfig  \\\n",
       "0  {'testFraction': 0.3, 'validationFolds': 3}  {'maxTrials': 10}   \n",
       "\n",
       "                                      parameterSpace  \n",
       "0  {'MultilayerPerceptron': [], 'RandomForest': [...  "
      ]
     },
     "metadata": {},
     "output_type": "display_data"
    }
   ],
   "source": [
    "result = gds.run_cypher(\n",
    "  \"\"\"\n",
    " CALL gds.beta.pipeline.nodeClassification.create('pipe_6')\n",
    "  \"\"\"\n",
    ")\n",
    "display(result)"
   ]
  },
  {
   "cell_type": "code",
   "execution_count": 239,
   "metadata": {},
   "outputs": [
    {
     "data": {
      "text/html": [
       "<div>\n",
       "<style scoped>\n",
       "    .dataframe tbody tr th:only-of-type {\n",
       "        vertical-align: middle;\n",
       "    }\n",
       "\n",
       "    .dataframe tbody tr th {\n",
       "        vertical-align: top;\n",
       "    }\n",
       "\n",
       "    .dataframe thead th {\n",
       "        text-align: right;\n",
       "    }\n",
       "</style>\n",
       "<table border=\"1\" class=\"dataframe\">\n",
       "  <thead>\n",
       "    <tr style=\"text-align: right;\">\n",
       "      <th></th>\n",
       "      <th>randomForestSpace</th>\n",
       "      <th>logisticRegressionSpace</th>\n",
       "      <th>MultilayerPerceptronSpace</th>\n",
       "    </tr>\n",
       "  </thead>\n",
       "  <tbody>\n",
       "    <tr>\n",
       "      <th>0</th>\n",
       "      <td>[]</td>\n",
       "      <td>[{'maxEpochs': 500, 'minEpochs': 1, 'penalty':...</td>\n",
       "      <td>[{'maxEpochs': 100, 'minEpochs': 1, 'penalty':...</td>\n",
       "    </tr>\n",
       "  </tbody>\n",
       "</table>\n",
       "</div>"
      ],
      "text/plain": [
       "  randomForestSpace                            logisticRegressionSpace  \\\n",
       "0                []  [{'maxEpochs': 500, 'minEpochs': 1, 'penalty':...   \n",
       "\n",
       "                           MultilayerPerceptronSpace  \n",
       "0  [{'maxEpochs': 100, 'minEpochs': 1, 'penalty':...  "
      ]
     },
     "metadata": {},
     "output_type": "display_data"
    }
   ],
   "source": [
    "\n",
    "result = gds.run_cypher(\n",
    "  \"\"\"\n",
    "CALL gds.beta.pipeline.nodeClassification.addLogisticRegression('pipe', {maxEpochs: 500, penalty: {range: [1e-4, 1e2]}})\n",
    "YIELD parameterSpace\n",
    "RETURN parameterSpace.RandomForest AS randomForestSpace, parameterSpace.LogisticRegression AS logisticRegressionSpace, parameterSpace.MultilayerPerceptron AS MultilayerPerceptronSpace\n",
    "  \"\"\"\n",
    ")\n",
    "display(result)"
   ]
  },
  {
   "cell_type": "code",
   "execution_count": 241,
   "metadata": {},
   "outputs": [
    {
     "data": {
      "text/html": [
       "<div>\n",
       "<style scoped>\n",
       "    .dataframe tbody tr th:only-of-type {\n",
       "        vertical-align: middle;\n",
       "    }\n",
       "\n",
       "    .dataframe tbody tr th {\n",
       "        vertical-align: top;\n",
       "    }\n",
       "\n",
       "    .dataframe thead th {\n",
       "        text-align: right;\n",
       "    }\n",
       "</style>\n",
       "<table border=\"1\" class=\"dataframe\">\n",
       "  <thead>\n",
       "    <tr style=\"text-align: right;\">\n",
       "      <th></th>\n",
       "      <th>requiredMemory</th>\n",
       "    </tr>\n",
       "  </thead>\n",
       "  <tbody>\n",
       "    <tr>\n",
       "      <th>0</th>\n",
       "      <td>[3273 KiB ... 3304 KiB]</td>\n",
       "    </tr>\n",
       "  </tbody>\n",
       "</table>\n",
       "</div>"
      ],
      "text/plain": [
       "            requiredMemory\n",
       "0  [3273 KiB ... 3304 KiB]"
      ]
     },
     "metadata": {},
     "output_type": "display_data"
    }
   ],
   "source": [
    "result = gds.run_cypher(\n",
    "  \"\"\"\n",
    "CALL gds.beta.pipeline.nodeClassification.train.estimate('myGraph_1', {\n",
    "  pipeline: 'pipe',\n",
    "  targetNodeLabels: ['*'],\n",
    "  modelName: 'nc-pipeline-model',\n",
    "  targetProperty: 'class',\n",
    "  randomSeed: 2,\n",
    "  metrics: [ 'ACCURACY' ]\n",
    "})\n",
    "YIELD requiredMemory\n",
    "  \"\"\"\n",
    ")\n",
    "display(result)\n"
   ]
  },
  {
   "cell_type": "code",
   "execution_count": 247,
   "metadata": {},
   "outputs": [
    {
     "data": {
      "text/html": [
       "<div>\n",
       "<style scoped>\n",
       "    .dataframe tbody tr th:only-of-type {\n",
       "        vertical-align: middle;\n",
       "    }\n",
       "\n",
       "    .dataframe tbody tr th {\n",
       "        vertical-align: top;\n",
       "    }\n",
       "\n",
       "    .dataframe thead th {\n",
       "        text-align: right;\n",
       "    }\n",
       "</style>\n",
       "<table border=\"1\" class=\"dataframe\">\n",
       "  <thead>\n",
       "    <tr style=\"text-align: right;\">\n",
       "      <th></th>\n",
       "      <th>requiredMemory</th>\n",
       "    </tr>\n",
       "  </thead>\n",
       "  <tbody>\n",
       "    <tr>\n",
       "      <th>0</th>\n",
       "      <td>3072 Bytes</td>\n",
       "    </tr>\n",
       "  </tbody>\n",
       "</table>\n",
       "</div>"
      ],
      "text/plain": [
       "  requiredMemory\n",
       "0     3072 Bytes"
      ]
     },
     "metadata": {},
     "output_type": "display_data"
    }
   ],
   "source": [
    "\n",
    "\n",
    "result = gds.run_cypher(\n",
    "  \"\"\"\n",
    "CALL gds.beta.pipeline.nodeClassification.predict.stream.estimate('myGraph_1', {\n",
    "  modelName: 'nc-pipeline-model',\n",
    "  includePredictedProbabilities: true,\n",
    "  targetNodeLabels: ['*']\n",
    "})\n",
    "YIELD requiredMemory\n",
    "\n",
    "\n",
    "  \"\"\"\n",
    ")\n",
    "display(result)\n"
   ]
  },
  {
   "cell_type": "code",
   "execution_count": 248,
   "metadata": {},
   "outputs": [
    {
     "data": {
      "text/html": [
       "<div>\n",
       "<style scoped>\n",
       "    .dataframe tbody tr th:only-of-type {\n",
       "        vertical-align: middle;\n",
       "    }\n",
       "\n",
       "    .dataframe tbody tr th {\n",
       "        vertical-align: top;\n",
       "    }\n",
       "\n",
       "    .dataframe thead th {\n",
       "        text-align: right;\n",
       "    }\n",
       "</style>\n",
       "<table border=\"1\" class=\"dataframe\">\n",
       "  <thead>\n",
       "    <tr style=\"text-align: right;\">\n",
       "      <th></th>\n",
       "      <th>classifiednoder</th>\n",
       "      <th>predictedClass</th>\n",
       "      <th>confidence</th>\n",
       "    </tr>\n",
       "  </thead>\n",
       "  <tbody>\n",
       "    <tr>\n",
       "      <th>0</th>\n",
       "      <td>1.0</td>\n",
       "      <td>3</td>\n",
       "      <td>[0.9999999999999997]</td>\n",
       "    </tr>\n",
       "    <tr>\n",
       "      <th>1</th>\n",
       "      <td>2.0</td>\n",
       "      <td>3</td>\n",
       "      <td>[0.9999999999999997]</td>\n",
       "    </tr>\n",
       "    <tr>\n",
       "      <th>2</th>\n",
       "      <td>3.0</td>\n",
       "      <td>3</td>\n",
       "      <td>[0.9999999999999997]</td>\n",
       "    </tr>\n",
       "    <tr>\n",
       "      <th>3</th>\n",
       "      <td>3.0</td>\n",
       "      <td>3</td>\n",
       "      <td>[0.9999999999999997]</td>\n",
       "    </tr>\n",
       "    <tr>\n",
       "      <th>4</th>\n",
       "      <td>3.0</td>\n",
       "      <td>3</td>\n",
       "      <td>[0.9999999999999997]</td>\n",
       "    </tr>\n",
       "    <tr>\n",
       "      <th>...</th>\n",
       "      <td>...</td>\n",
       "      <td>...</td>\n",
       "      <td>...</td>\n",
       "    </tr>\n",
       "    <tr>\n",
       "      <th>56</th>\n",
       "      <td>8.0</td>\n",
       "      <td>3</td>\n",
       "      <td>[0.9999999999999997]</td>\n",
       "    </tr>\n",
       "    <tr>\n",
       "      <th>57</th>\n",
       "      <td>8.0</td>\n",
       "      <td>3</td>\n",
       "      <td>[0.9999999999999997]</td>\n",
       "    </tr>\n",
       "    <tr>\n",
       "      <th>58</th>\n",
       "      <td>8.0</td>\n",
       "      <td>3</td>\n",
       "      <td>[0.9999999999999997]</td>\n",
       "    </tr>\n",
       "    <tr>\n",
       "      <th>59</th>\n",
       "      <td>8.0</td>\n",
       "      <td>3</td>\n",
       "      <td>[0.9999999999999997]</td>\n",
       "    </tr>\n",
       "    <tr>\n",
       "      <th>60</th>\n",
       "      <td>NaN</td>\n",
       "      <td>3</td>\n",
       "      <td>[0.9999999999999997]</td>\n",
       "    </tr>\n",
       "  </tbody>\n",
       "</table>\n",
       "<p>61 rows × 3 columns</p>\n",
       "</div>"
      ],
      "text/plain": [
       "    classifiednoder  predictedClass            confidence\n",
       "0               1.0               3  [0.9999999999999997]\n",
       "1               2.0               3  [0.9999999999999997]\n",
       "2               3.0               3  [0.9999999999999997]\n",
       "3               3.0               3  [0.9999999999999997]\n",
       "4               3.0               3  [0.9999999999999997]\n",
       "..              ...             ...                   ...\n",
       "56              8.0               3  [0.9999999999999997]\n",
       "57              8.0               3  [0.9999999999999997]\n",
       "58              8.0               3  [0.9999999999999997]\n",
       "59              8.0               3  [0.9999999999999997]\n",
       "60              NaN               3  [0.9999999999999997]\n",
       "\n",
       "[61 rows x 3 columns]"
      ]
     },
     "metadata": {},
     "output_type": "display_data"
    },
    {
     "data": {
      "text/plain": [
       "array([[<AxesSubplot: title={'center': 'classifiednoder'}>,\n",
       "        <AxesSubplot: title={'center': 'predictedClass'}>]], dtype=object)"
      ]
     },
     "execution_count": 248,
     "metadata": {},
     "output_type": "execute_result"
    },
    {
     "data": {
      "image/png": "[encoded data removed]",
      "text/plain": [
       "<Figure size 640x480 with 2 Axes>"
      ]
     },
     "metadata": {},
     "output_type": "display_data"
    }
   ],
   "source": [
    "\n",
    "result = gds.run_cypher(\n",
    "  \"\"\"\n",
    "CALL gds.beta.pipeline.nodeClassification.predict.stream('myGraph_1', {\n",
    "  modelName: 'nc-pipeline-model',\n",
    "  includePredictedProbabilities: true,\n",
    "  targetNodeLabels: ['*']\n",
    "})\n",
    " YIELD nodeId, predictedClass, predictedProbabilities\n",
    "WITH gds.util.asNode(nodeId) AS alla_noder , predictedClass, predictedProbabilities\n",
    "RETURN\n",
    "  alla_noder.class AS classifiednoder,\n",
    "  predictedClass,\n",
    "  predictedProbabilities AS confidence\n",
    "\n",
    "  ORDER BY classifiednoder\n",
    "\n",
    "\n",
    "  \"\"\"\n",
    ")\n",
    "display(result)\n",
    "result.hist()"
   ]
  },
  {
   "cell_type": "code",
   "execution_count": 205,
   "metadata": {},
   "outputs": [
    {
     "name": "stdout",
     "output_type": "stream",
     "text": [
      "[0.9999999999999997]\n",
      "[0.9999999999999997]\n",
      "[0.9999999999999997]\n",
      "[0.9999999999999997]\n",
      "[0.9999999999999997]\n",
      "[0.9999999999999997]\n",
      "[0.9999999999999997]\n",
      "[0.9999999999999997]\n",
      "[0.9999999999999997]\n",
      "[0.9999999999999997]\n",
      "[0.9999999999999997]\n",
      "[0.9999999999999997]\n"
     ]
    }
   ],
   "source": [
    "x=result['confidence']\n",
    "for t in x:\n",
    "    print(t)"
   ]
  },
  {
   "cell_type": "code",
   "execution_count": 217,
   "metadata": {},
   "outputs": [
    {
     "data": {
      "text/html": [
       "<div>\n",
       "<style scoped>\n",
       "    .dataframe tbody tr th:only-of-type {\n",
       "        vertical-align: middle;\n",
       "    }\n",
       "\n",
       "    .dataframe tbody tr th {\n",
       "        vertical-align: top;\n",
       "    }\n",
       "\n",
       "    .dataframe thead th {\n",
       "        text-align: right;\n",
       "    }\n",
       "</style>\n",
       "<table border=\"1\" class=\"dataframe\">\n",
       "  <thead>\n",
       "    <tr style=\"text-align: right;\">\n",
       "      <th></th>\n",
       "      <th>nodePropertiesWritten</th>\n",
       "    </tr>\n",
       "  </thead>\n",
       "  <tbody>\n",
       "    <tr>\n",
       "      <th>0</th>\n",
       "      <td>122</td>\n",
       "    </tr>\n",
       "  </tbody>\n",
       "</table>\n",
       "</div>"
      ],
      "text/plain": [
       "   nodePropertiesWritten\n",
       "0                    122"
      ]
     },
     "metadata": {},
     "output_type": "display_data"
    }
   ],
   "source": [
    "result = gds.run_cypher(\n",
    "  \"\"\"\n",
    "CALL gds.beta.pipeline.nodeClassification.predict.mutate('myGraph', {\n",
    "  targetNodeLabels: ['*'],\n",
    "  modelName: 'nc-pipeline-model',\n",
    "  mutateProperty: 'predictedClass',\n",
    "  predictedProbabilityProperty: 'predictedProbabilities'\n",
    "}) YIELD nodePropertiesWritten\n",
    "\n",
    "\n",
    "  \"\"\"\n",
    ")\n",
    "display(result)"
   ]
  },
  {
   "cell_type": "code",
   "execution_count": 218,
   "metadata": {},
   "outputs": [
    {
     "data": {
      "text/html": [
       "<div>\n",
       "<style scoped>\n",
       "    .dataframe tbody tr th:only-of-type {\n",
       "        vertical-align: middle;\n",
       "    }\n",
       "\n",
       "    .dataframe tbody tr th {\n",
       "        vertical-align: top;\n",
       "    }\n",
       "\n",
       "    .dataframe thead th {\n",
       "        text-align: right;\n",
       "    }\n",
       "</style>\n",
       "<table border=\"1\" class=\"dataframe\">\n",
       "  <thead>\n",
       "    <tr style=\"text-align: right;\">\n",
       "      <th></th>\n",
       "      <th>nodePropertiesWritten</th>\n",
       "    </tr>\n",
       "  </thead>\n",
       "  <tbody>\n",
       "    <tr>\n",
       "      <th>0</th>\n",
       "      <td>2</td>\n",
       "    </tr>\n",
       "  </tbody>\n",
       "</table>\n",
       "</div>"
      ],
      "text/plain": [
       "   nodePropertiesWritten\n",
       "0                      2"
      ]
     },
     "metadata": {},
     "output_type": "display_data"
    }
   ],
   "source": [
    "result = gds.run_cypher(\n",
    "  \"\"\"\n",
    "CALL gds.beta.pipeline.nodeClassification.predict.write('myGraph', {\n",
    "  targetNodeLabels: ['Aggregat'],\n",
    "  modelName: 'nc-pipeline-model',\n",
    "  writeProperty: 'predictedClass',\n",
    "  predictedProbabilityProperty: 'predictedProbabilities'\n",
    "}) YIELD nodePropertiesWritten\n",
    "\n",
    "\n",
    "  \"\"\"\n",
    ")\n",
    "display(result)"
   ]
  }
 ],
 "metadata": {
  "kernelspec": {
   "display_name": "Python 3.10.8 ('env': venv)",
   "language": "python",
   "name": "python3"
  },
  "language_info": {
   "codemirror_mode": {
    "name": "ipython",
    "version": 3
   },
   "file_extension": ".py",
   "mimetype": "text/x-python",
   "name": "python",
   "nbconvert_exporter": "python",
   "pygments_lexer": "ipython3",
   "version": "3.10.8"
  },
  "orig_nbformat": 4,
  "vscode": {
   "interpreter": {
    "hash": "24b2516218f01c8cdf8c63b4b81a21b8a28a7afd0d34805806f72160f6e0c712"
   }
  }
 },
 "nbformat": 4,
 "nbformat_minor": 2
}
