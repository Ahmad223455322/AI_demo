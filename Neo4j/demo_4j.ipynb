{
 "cells": [
  {
   "cell_type": "code",
   "execution_count": 26,
   "metadata": {},
   "outputs": [],
   "source": [
    "from neo4j import GraphDatabase\n"
   ]
  },
  {
   "cell_type": "code",
   "execution_count": 27,
   "metadata": {},
   "outputs": [],
   "source": [
    "graph_db =  GraphDatabase.driver(uri = \"bolt://localhost:7687\", auth=(\"neo4j\", \"password\"))"
   ]
  },
  {
   "cell_type": "code",
   "execution_count": 28,
   "metadata": {},
   "outputs": [
    {
     "data": {
      "text/plain": [
       "<neo4j._sync.driver.BoltDriver at 0x1f1a228c8b0>"
      ]
     },
     "execution_count": 28,
     "metadata": {},
     "output_type": "execute_result"
    }
   ],
   "source": [
    "graph_db\n"
   ]
  },
  {
   "cell_type": "code",
   "execution_count": 29,
   "metadata": {},
   "outputs": [],
   "source": [
    "session = graph_db.session()\n",
    "x=1"
   ]
  },
  {
   "cell_type": "code",
   "execution_count": 97,
   "metadata": {},
   "outputs": [],
   "source": [
    "#create \n",
    "q_1= \"CREATE (test:Byggnad {name: 'Addiva'})\"\n",
    "#uppdate\n",
    "q_2= \"MATCH (n:Room {name: 'K1',data: '22'}) SET n.name ='name:K2' RETURN n\"\n",
    "#delete\n",
    "q_3 = \"MATCH (n:Room {name: 'K1'}) DELETE n\"\n",
    "#relation\n",
    "q_4= \"MATCH (a:Room),(b:Byggnad) WHERE a.name = 'K3' AND b.name = 'Addiva' CREATE (a)-[r: innehåller]->(b) RETURN type(r)\"\n"
   ]
  },
  {
   "cell_type": "code",
   "execution_count": null,
   "metadata": {},
   "outputs": [],
   "source": []
  }
 ],
 "metadata": {
  "kernelspec": {
   "display_name": "Python 3.10.8 ('env': venv)",
   "language": "python",
   "name": "python3"
  },
  "language_info": {
   "codemirror_mode": {
    "name": "ipython",
    "version": 3
   },
   "file_extension": ".py",
   "mimetype": "text/x-python",
   "name": "python",
   "nbconvert_exporter": "python",
   "pygments_lexer": "ipython3",
   "version": "3.10.8"
  },
  "orig_nbformat": 4,
  "vscode": {
   "interpreter": {
    "hash": "24b2516218f01c8cdf8c63b4b81a21b8a28a7afd0d34805806f72160f6e0c712"
   }
  }
 },
 "nbformat": 4,
 "nbformat_minor": 2
}
