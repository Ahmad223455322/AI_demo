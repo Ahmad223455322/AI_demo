{
 "cells": [
  {
   "cell_type": "code",
   "execution_count": 38,
   "metadata": {},
   "outputs": [],
   "source": [
    "import pandas as pd\n",
    "from neo4j import GraphDatabase\n",
    "from graphdatascience import GraphDataScience\n",
    "\n"
   ]
  },
  {
   "cell_type": "code",
   "execution_count": 39,
   "metadata": {},
   "outputs": [],
   "source": [
    "graph_db =  GraphDatabase.driver(uri = \"bolt://localhost:7687\", auth=(\"neo4j\", \"password\"))\n"
   ]
  },
  {
   "cell_type": "code",
   "execution_count": 40,
   "metadata": {},
   "outputs": [],
   "source": [
    "URI  = \"bolt://localhost:7687\"\n",
    "creds=(\"neo4j\", \"password\")\n",
    "\n",
    "gds =  GraphDataScience(URI,auth=(creds ))\n",
    "\n",
    "\n",
    "Nodar = gds.run_cypher(\n",
    "    \"\"\"\n",
    "    CREATE (a:Aggregat {name: 'Frånluft',effect:820}),\n",
    "       (b:Aggregat {name: 'Tilluft',effect:860}),\n",
    "       (c:Hub {name: 'Tilluft_hub1'}),\n",
    "       (d:Hub {name: 'Tilluft_hub2'}),\n",
    "       (e:Hub {name: 'Tilluft_hub3'}),\n",
    "       (f:Hub {name: 'Tilluft_hub4'}),\n",
    "       (g:Hub {name: 'Tilluft_hub5'}),\n",
    "       (h:Hub {name: 'Tilluft_hub6'}),\n",
    "       (i:Hub {name: 'Tilluft_hub7'}),\n",
    "       (j:Hub {name: 'Tilluft_hub8'}),\n",
    "       (k:Hub {name: 'Tilluft_hub9'}),\n",
    "       (l:Hub {name: 'Tilluft_hub10'}),\n",
    "       (m:Hub {name: 'Frånluft_hub1'}),\n",
    "       (n:Hub {name: 'Frånluft_hub2'}),\n",
    "       (aa:Tilluft_ventil {name: 'T101',zon:'2',room:'Mattias_kontor',rums_volym:31}),\n",
    "       (bb:Tilluft_ventil {name: 'T102',zon:'2',room:'K2',rums_volym:31}),\n",
    "       (cc:Tilluft_ventil {name: 'T103',zon:'2',room:'Entre',rums_volym:250}),\n",
    "       (dd:Tilluft_ventil {name: 'T104',zon:'2',room:'Stora_Kontoret',rums_volym:302}),\n",
    "       (ee:Tilluft_ventil {name: 'T105',zon:'1',room:'Stora_Kontoret',rums_volym:302}),\n",
    "       (ff:Tilluft_ventil {name: 'T106',zon:'1',room:'Stora_Kontoret',rums_volym:302}),\n",
    "       (gg:Tilluft_ventil {name: 'T107',zon:'1',room:'Stora_Kontoret',rums_volym:302}),\n",
    "       (hh:Tilluft_ventil {name: 'T108',zon:'1',room:'Stora_Kontoret',rums_volym:302}),\n",
    "       (ii:Tilluft_ventil {name: 'T109',zon:'1',room:'Stora_Kontoret',rums_volym:302}),\n",
    "       (jj:Tilluft_ventil {name: 'T110',zon:'2',room:'Stora_Kontoret',rums_volym:302}),\n",
    "       (kk:Tilluft_ventil {name: 'T111',zon:'2',room:'K3',rums_volym:22}),\n",
    "       (ll:Tilluft_ventil {name: 'T112',zon:'1',room:'K1',rums_volym:56}),\n",
    "       (mm:Tilluft_ventil {name: 'T113',zon:'1',room:'K1',rums_volym:56}),\n",
    "       (nn:Tilluft_ventil {name: 'T114',zon:'1',room:'Box02',rums_volym:6}),\n",
    "       (qq:Tilluft_ventil {name: 'T115',zon:'1',room:'Box01',rums_volym:6}),\n",
    "       (rr:Tilluft_ventil {name: 'T116',zon:'2',room:'Matsal',rums_volym:70}),\n",
    "       (ss:Tilluft_ventil {name: 'T117',zon:'2',room:'Matsal',rums_volym:70}),\n",
    "       (tt:Tilluft_ventil {name: 'T118',zon:'3',room:'ESD',rums_volym:157}),\n",
    "       (ww:Tilluft_ventil {name: 'T119',zon:'3',room:'ESD',rums_volym:157}),\n",
    "       (xx:Tilluft_ventil {name: 'T120',zon:'3',room:'ESD',rums_volym:157}),\n",
    "       (yy:Tilluft_ventil {name: 'T121',zon:'3',room:'ESD',rums_volym:157}),\n",
    "       (ccc:Tilluft_ventil {name: 'T122',zon:'3',room:'ESD',rums_volym:157}),\n",
    "       (ddd:Tilluft_ventil {name: 'T123',zon:'3',room:'ESD',rums_volym:157}),\n",
    "       \n",
    "       (zz:Frånluft_ventil {name: 'F101',zon:'1',room:'Stora_Kontoret',rums_volym:302}),\n",
    "       (aaa:Frånluft_ventil {name: 'F102',zon:'2',room:'Entre',rums_volym:250}),\n",
    "       (bbb:Frånluft_ventil {name: 'F103',zon:'3',room:'ESD',rums_volym:157}),\n",
    "\n",
    "\n",
    "       \n",
    "       (fff:Sensor {name: 'sensor_1',zon:'1',room:'Stora_Kontoret',sensor_id: 'A81758fffe075b67',mät_värde_1:'(temperatur,luftfuktighet,vattenläckage,vdd)'}),\n",
    "       (ggg:Sensor {name: 'sensor_2',zon:'1',room:'K1',sensor_id: 'A81758fffe075b66',mät_värde_1:'(temperatur,luftfuktighet,vattenläckage,vdd)'}),\n",
    "       (lll:Sensor {name: 'sensor_3',zon:'1',room:'K3',sensor_id: 'A81758fffe075c91',mät_värde_1:'(temperatur,luftfuktighet,vattenläckage,vdd)'}),\n",
    "       (mmm:Sensor {name: 'sensor_4',zon:'2',room:'Stora_Kontoret',sensor_id: 'A81758fffe075b65',mät_värde_1:'(temperatur,luftfuktighet,vattenläckage,vdd)'}),\n",
    "       (nnn:Sensor {name: 'sensor_5',zon:'2',room:'K2',sensor_id: 'A81758fffe034f66',mät_värde_1:'(temperatur,luftfuktighet,rörlse,ljus)'}),\n",
    "\n",
    "      \n",
    "       (ee)-[:Mäts_från {name:'Mäter',distance:6.5}]->(fff),\n",
    "       (ff)-[:Mäts_från {name:'Mäter',distance:4}]->(fff),\n",
    "       (gg)-[:Mäts_från {name:'Mäter',distance:5}]->(fff),\n",
    "       (hh)-[:Mäts_från {name:'Mäter',distance:5}]->(fff),\n",
    "       (ii)-[:Mäts_från {name:'Mäter',distance:2}]->(fff),\n",
    "       (ll)-[:Mäts_från {name:'Mäter',distance:1}]->(ggg),\n",
    "       (mm)-[:Mäts_från {name:'Mäter',distance:1}]->(ggg),\n",
    "       (nn)-[:Mäts_från {name:'Mäter',distance:6}]->(fff),\n",
    "       (qq)-[:Mäts_från {name:'Mäter',distance:8}]->(fff),\n",
    "       (aa)-[:Mäts_från {name:'Mäter',distance:5.5}]->(nnn),\n",
    "       (bb)-[:Mäts_från {name:'Mäter',distance:5}]->(nnn),\n",
    "       (cc)-[:Mäts_från {name:'Mäter',distance:2}]->(nnn),\n",
    "       (dd)-[:Mäts_från {name:'Mäter',distance:1}]->(mmm),\n",
    "       (ee)-[:Mäts_från {name:'Mäter',distance:6}]->(mmm),\n",
    "       (rr)-[:Mäts_från {name:'Mäter',distance:8}]->(nnn),\n",
    "       (ss)-[:Mäts_från {name:'Mäter',distance:10}]->(nnn),\n",
    "       (jj)-[:Mäts_från {name:'Mäter',distance:1}]->(lll),\n",
    "      \n",
    "\n",
    "\n",
    "        \n",
    "\n",
    "    (c)-[:Tilluft_kanal {name:'channel4',dimension:200,distance:7}]->(ff),\n",
    "    (c)-[:Tilluft_kanal {name:'channel4',dimension:200,distance:7}]->(gg),\n",
    "    (d)-[:Tilluft_kanal {name:'channel5',dimension:200,distance:5}]->(hh),\n",
    "    (d)-[:Tilluft_kanal {name:'channel5',dimension:200,distance:5}]->(ii),\n",
    "    (e)-[:Tilluft_kanal {name:'channel6',dimension:200,distance:3}]->(ll),\n",
    "    (e)-[:Tilluft_kanal {name:'channel6',dimension:200,distance:4}]->(mm),\n",
    "    (f)-[:Tilluft_kanal {name:'channel7',dimension:200,distance:8.1}]->(dd),\n",
    "    (f)-[:Tilluft_kanal {name:'channel7',dimension:200,distance:8.1}]->(ee),\n",
    "    (f)-[:Tilluft_kanal {name:'channel7',dimension:200,distance:1.5}]->(kk),\n",
    "    (g)-[:Tilluft_kanal {name:'channel8',dimension:200,distance:3}]->(tt),\n",
    "    (i)-[:Tilluft_kanal {name:'channel9',dimension:200,distance:4.5}]->(jj),\n",
    "    (j)-[:Tilluft_kanal {name:'channel10',dimension:200,distance:7}]->(aa),\n",
    "    (j)-[:Tilluft_kanal {name:'channel10',dimension:200,distance:7}]->(bb),\n",
    "    (j)-[:Tilluft_kanal {name:'channel10',dimension:200,distance:3.5}]->(cc),\n",
    "    (k)-[:Tilluft_kanal {name:'channel11',dimension:200,distance:2}]->(rr),\n",
    "    (k)-[:Tilluft_kanal {name:'channel11',dimension:200,distance:5}]->(ss),\n",
    "    (l)-[:Tilluft_kanal {name:'channel12',dimension:200,distance:6}]->(ww),\n",
    "    (l)-[:Tilluft_kanal {name:'channel12',dimension:200,distance:8}]->(xx),\n",
    "    (l)-[:Tilluft_kanal {name:'channel12',dimension:200,distance:10}]->(yy),\n",
    "    (l)-[:Tilluft_kanal {name:'channel13',dimension:200,distance:5}]->(ccc),\n",
    "    (l)-[:Tilluft_kanal {name:'channel13',dimension:200,distance:7.5}]->(ddd),\n",
    "      (c)-[:Tilluft_kanal {name:'channel4',dimension:200,distance:0.5}]->(nn),\n",
    "        (c)-[:Tilluft_kanal {name:'channel4',dimension:200,distance:2}]->(qq),\n",
    "\n",
    "    (bbb)-[:Frånluft_kanal{name:'channel14',dimension:200,distance:32}]->(n),\n",
    "    (zz)-[:Frånluft_kanal {name:'channel15',dimension:200,distance:7.5}]->(n),\n",
    "    (aaa)-[:Frånluft_kanal {name:'channel16',dimension:200,distance:4}]->(m),\n",
    "    \n",
    "  \n",
    "\n",
    "       (b)-[:Tilluft_kanal {name:'channel1',dimension:761,distance:10.5}]->(c),\n",
    "       (c)-[:Tilluft_kanal {name:'channel1',dimension:761,distance:5}]->(d),\n",
    "       (d)-[:Tilluft_kanal {name:'channel1',dimension:761,distance:3}]->(e),\n",
    "       (e)-[:Tilluft_kanal {name:'channel1',dimension:761,distance:1.5}]->(f),\n",
    "       (f)-[:Tilluft_kanal {name:'channel1',dimension:761,distance:2.6}]->(g),\n",
    "       (g)-[:Tilluft_kanal {name:'channel1',dimension:761,distance:2.1}]->(h),\n",
    "       (h)-[:Tilluft_kanal {name:'channel1',dimension:761,distance:3.5}]->(i),\n",
    "       (i)-[:Tilluft_kanal {name:'channel1',dimension:761,distance:4}]->(j),\n",
    "       (i)-[:Tilluft_kanal {name:'channel1',dimension:761,distance:4}]->(k),\n",
    "       (h)-[:Tilluft_kanal {name:'channel2',dimension:200,distance:6}]->(l),\n",
    "       (n)-[:Frånluft_kanal {name:'channel3',dimension:583,distance:6}]->(m),\n",
    "       (m)-[:Frånluft_kanal {name:'channel3',dimension:583,distance:3}]->(a)\n",
    "\n",
    "    \"\"\"\n",
    ")\n",
    "\n"
   ]
  },
  {
   "cell_type": "markdown",
   "metadata": {},
   "source": [
    "### Projecting into GDS"
   ]
  },
  {
   "cell_type": "code",
   "execution_count": 41,
   "metadata": {},
   "outputs": [
    {
     "name": "stdout",
     "output_type": "stream",
     "text": [
      "Required memory for native loading: 289 KiB\n"
     ]
    }
   ],
   "source": [
    "# We define how we want to project our database into GDS\n",
    "node_projection = [\"*\"]\n",
    "relationship_projection ='*'\n",
    "\n",
    "# Before actually going through with the projection, let's check how much memory is required\n",
    "result = gds.graph.project.estimate(node_projection, relationship_projection)\n",
    "\n",
    "print(f\"Required memory for native loading: {result['requiredMemory']}\")"
   ]
  },
  {
   "cell_type": "code",
   "execution_count": 43,
   "metadata": {},
   "outputs": [
    {
     "name": "stdout",
     "output_type": "stream",
     "text": [
      "The projection took 10 ms\n",
      "Graph 'mygraph_5' node count: 45\n",
      "Graph 'mygraph_5' node labels: ['__ALL__']\n"
     ]
    }
   ],
   "source": [
    "# For this small graph memory requirement is low. Let us go through with the projection\n",
    "G, result = gds.graph.project(\"mygraph_5\", node_projection, relationship_projection)\n",
    "\n",
    "print(f\"The projection took {result['projectMillis']} ms\")\n",
    "\n",
    "# We can use convenience methods on `G` to check if the projection looks correct\n",
    "print(f\"Graph '{G.name()}' node count: {G.node_count()}\")\n",
    "print(f\"Graph '{G.name()}' node labels: {G.node_labels()}\")"
   ]
  },
  {
   "cell_type": "code",
   "execution_count": 44,
   "metadata": {},
   "outputs": [
    {
     "name": "stdout",
     "output_type": "stream",
     "text": [
      "Required memory for running FastRP: 6672 Bytes\n"
     ]
    }
   ],
   "source": [
    "# We can also estimate memory of running algorithms like FastRP, so let's do that first\n",
    "result = gds.fastRP.mutate.estimate(\n",
    "    G,\n",
    "    mutateProperty=\"embedding\",\n",
    "    randomSeed=42,\n",
    "    embeddingDimension=4,\n",
    "    relationshipWeightProperty=\"*\",\n",
    "    iterationWeights=[0.8, 1, 1, 1],\n",
    ")\n",
    "\n",
    "print(f\"Required memory for running FastRP: {result['requiredMemory']}\")"
   ]
  },
  {
   "cell_type": "code",
   "execution_count": 61,
   "metadata": {},
   "outputs": [
    {
     "ename": "ClientError",
     "evalue": "{code: Neo.ClientError.Procedure.ProcedureCallFailed} {message: Failed to invoke procedure `gds.fastRP.mutate`: Caused by: java.lang.IllegalArgumentException: Node property `fastrp-embedding` already exists in the in-memory graph.}",
     "output_type": "error",
     "traceback": [
      "\u001b[1;31m---------------------------------------------------------------------------\u001b[0m",
      "\u001b[1;31mClientError\u001b[0m                               Traceback (most recent call last)",
      "Cell \u001b[1;32mIn [61], line 2\u001b[0m\n\u001b[0;32m      1\u001b[0m \u001b[39m# Now let's run FastRP and mutate our projected graph 'purchases' with the results\u001b[39;00m\n\u001b[1;32m----> 2\u001b[0m result \u001b[39m=\u001b[39m gds\u001b[39m.\u001b[39;49mfastRP\u001b[39m.\u001b[39;49mmutate(\n\u001b[0;32m      3\u001b[0m   G ,\n\u001b[0;32m      4\u001b[0m  \n\u001b[0;32m      5\u001b[0m     mutateProperty\u001b[39m=\u001b[39;49m \u001b[39m'\u001b[39;49m\u001b[39mfastrp-embedding\u001b[39;49m\u001b[39m'\u001b[39;49m,\n\u001b[0;32m      6\u001b[0m     embeddingDimension\u001b[39m=\u001b[39;49m\u001b[39m4\u001b[39;49m,\n\u001b[0;32m      7\u001b[0m    \n\u001b[0;32m      8\u001b[0m \n\u001b[0;32m      9\u001b[0m )\n\u001b[0;32m     11\u001b[0m \u001b[39m# Let's make sure we got an embedding for each node\u001b[39;00m\n\u001b[0;32m     12\u001b[0m \u001b[39mprint\u001b[39m(\u001b[39mf\u001b[39m\u001b[39m\"\u001b[39m\u001b[39mNumber of embedding vectors produced: \u001b[39m\u001b[39m{\u001b[39;00mresult\u001b[39m.\u001b[39mkeys()\u001b[39m}\u001b[39;00m\u001b[39m\"\u001b[39m)\n",
      "File \u001b[1;32mc:\\Users\\ahmzar\\Desktop\\Mqtt_server\\env\\lib\\site-packages\\graphdatascience\\algo\\algo_proc_runner.py:40\u001b[0m, in \u001b[0;36mStandardModeRunner.__call__\u001b[1;34m(self, G, **config)\u001b[0m\n\u001b[0;32m     39\u001b[0m \u001b[39mdef\u001b[39;00m \u001b[39m__call__\u001b[39m(\u001b[39mself\u001b[39m, G: Graph, \u001b[39m*\u001b[39m\u001b[39m*\u001b[39mconfig: Any) \u001b[39m-\u001b[39m\u001b[39m>\u001b[39m \u001b[39m\"\u001b[39m\u001b[39mSeries[Any]\u001b[39m\u001b[39m\"\u001b[39m:\n\u001b[1;32m---> 40\u001b[0m     \u001b[39mreturn\u001b[39;00m \u001b[39mself\u001b[39;49m\u001b[39m.\u001b[39;49m_run_procedure(G, config)\u001b[39m.\u001b[39msqueeze()\n",
      "File \u001b[1;32mc:\\Users\\ahmzar\\Desktop\\Mqtt_server\\env\\lib\\site-packages\\graphdatascience\\graph\\graph_type_check.py:18\u001b[0m, in \u001b[0;36mgraph_type_check.<locals>.wrapper\u001b[1;34m(self, G, *args, **kwargs)\u001b[0m\n\u001b[0;32m     12\u001b[0m \u001b[39mif\u001b[39;00m \u001b[39misinstance\u001b[39m(G, \u001b[39mstr\u001b[39m):\n\u001b[0;32m     13\u001b[0m     \u001b[39mraise\u001b[39;00m \u001b[39mTypeError\u001b[39;00m(\n\u001b[0;32m     14\u001b[0m         \u001b[39mf\u001b[39m\u001b[39m\"\u001b[39m\u001b[39mThe parameter \u001b[39m\u001b[39m'\u001b[39m\u001b[39mG\u001b[39m\u001b[39m'\u001b[39m\u001b[39m takes a `Graph` object, but received string \u001b[39m\u001b[39m'\u001b[39m\u001b[39m{\u001b[39;00mG\u001b[39m}\u001b[39;00m\u001b[39m'\u001b[39m\u001b[39m. \u001b[39m\u001b[39m\"\u001b[39m\n\u001b[0;32m     15\u001b[0m         \u001b[39m\"\u001b[39m\u001b[39mTo resolve a graph name string into a `Graph` object, please use `gds.graph.get`\u001b[39m\u001b[39m\"\u001b[39m\n\u001b[0;32m     16\u001b[0m     )\n\u001b[1;32m---> 18\u001b[0m \u001b[39mreturn\u001b[39;00m func(\u001b[39mself\u001b[39m, G, \u001b[39m*\u001b[39margs, \u001b[39m*\u001b[39m\u001b[39m*\u001b[39mkwargs)\n",
      "File \u001b[1;32mc:\\Users\\ahmzar\\Desktop\\Mqtt_server\\env\\lib\\site-packages\\graphdatascience\\algo\\algo_proc_runner.py:23\u001b[0m, in \u001b[0;36mAlgoProcRunner._run_procedure\u001b[1;34m(self, G, config, with_logging)\u001b[0m\n\u001b[0;32m     20\u001b[0m params[\u001b[39m\"\u001b[39m\u001b[39mconfig\u001b[39m\u001b[39m\"\u001b[39m] \u001b[39m=\u001b[39m config\n\u001b[0;32m     22\u001b[0m \u001b[39mif\u001b[39;00m with_logging:\n\u001b[1;32m---> 23\u001b[0m     \u001b[39mreturn\u001b[39;00m \u001b[39mself\u001b[39;49m\u001b[39m.\u001b[39;49m_query_runner\u001b[39m.\u001b[39;49mrun_query_with_logging(query, params)\n\u001b[0;32m     24\u001b[0m \u001b[39melse\u001b[39;00m:\n\u001b[0;32m     25\u001b[0m     \u001b[39mreturn\u001b[39;00m \u001b[39mself\u001b[39m\u001b[39m.\u001b[39m_query_runner\u001b[39m.\u001b[39mrun_query(query, params)\n",
      "File \u001b[1;32mc:\\Users\\ahmzar\\Desktop\\Mqtt_server\\env\\lib\\site-packages\\graphdatascience\\query_runner\\neo4j_query_runner.py:85\u001b[0m, in \u001b[0;36mNeo4jQueryRunner.run_query_with_logging\u001b[1;34m(self, query, params, database)\u001b[0m\n\u001b[0;32m     82\u001b[0m \u001b[39mself\u001b[39m\u001b[39m.\u001b[39m_log(job_id, future, database)\n\u001b[0;32m     84\u001b[0m \u001b[39mif\u001b[39;00m future\u001b[39m.\u001b[39mexception():\n\u001b[1;32m---> 85\u001b[0m     \u001b[39mraise\u001b[39;00m future\u001b[39m.\u001b[39mexception()  \u001b[39m# type: ignore\u001b[39;00m\n\u001b[0;32m     86\u001b[0m \u001b[39melse\u001b[39;00m:\n\u001b[0;32m     87\u001b[0m     \u001b[39mreturn\u001b[39;00m future\u001b[39m.\u001b[39mresult()\n",
      "File \u001b[1;32mC:\\Program Files\\WindowsApps\\PythonSoftwareFoundation.Python.3.10_3.10.2288.0_x64__qbz5n2kfra8p0\\lib\\concurrent\\futures\\thread.py:58\u001b[0m, in \u001b[0;36m_WorkItem.run\u001b[1;34m(self)\u001b[0m\n\u001b[0;32m     55\u001b[0m     \u001b[39mreturn\u001b[39;00m\n\u001b[0;32m     57\u001b[0m \u001b[39mtry\u001b[39;00m:\n\u001b[1;32m---> 58\u001b[0m     result \u001b[39m=\u001b[39m \u001b[39mself\u001b[39m\u001b[39m.\u001b[39mfn(\u001b[39m*\u001b[39m\u001b[39mself\u001b[39m\u001b[39m.\u001b[39margs, \u001b[39m*\u001b[39m\u001b[39m*\u001b[39m\u001b[39mself\u001b[39m\u001b[39m.\u001b[39mkwargs)\n\u001b[0;32m     59\u001b[0m \u001b[39mexcept\u001b[39;00m \u001b[39mBaseException\u001b[39;00m \u001b[39mas\u001b[39;00m exc:\n\u001b[0;32m     60\u001b[0m     \u001b[39mself\u001b[39m\u001b[39m.\u001b[39mfuture\u001b[39m.\u001b[39mset_exception(exc)\n",
      "File \u001b[1;32mc:\\Users\\ahmzar\\Desktop\\Mqtt_server\\env\\lib\\site-packages\\graphdatascience\\query_runner\\neo4j_query_runner.py:58\u001b[0m, in \u001b[0;36mNeo4jQueryRunner.run_query\u001b[1;34m(self, query, params, database)\u001b[0m\n\u001b[0;32m     51\u001b[0m \u001b[39m# Though pandas support may be experimental in the `neo4j` package, it should always\u001b[39;00m\n\u001b[0;32m     52\u001b[0m \u001b[39m# be supported in the `graphdatascience` package.\u001b[39;00m\n\u001b[0;32m     53\u001b[0m warnings\u001b[39m.\u001b[39mfilterwarnings(\n\u001b[0;32m     54\u001b[0m     \u001b[39m\"\u001b[39m\u001b[39mignore\u001b[39m\u001b[39m\"\u001b[39m,\n\u001b[0;32m     55\u001b[0m     message\u001b[39m=\u001b[39m\u001b[39mr\u001b[39m\u001b[39m\"\u001b[39m\u001b[39m^pandas support is experimental and might be changed or removed in future versions$\u001b[39m\u001b[39m\"\u001b[39m,\n\u001b[0;32m     56\u001b[0m )\n\u001b[1;32m---> 58\u001b[0m \u001b[39mreturn\u001b[39;00m result\u001b[39m.\u001b[39;49mto_df()\n",
      "File \u001b[1;32mc:\\Users\\ahmzar\\Desktop\\Mqtt_server\\env\\lib\\site-packages\\neo4j\\_sync\\work\\result.py:677\u001b[0m, in \u001b[0;36mResult.to_df\u001b[1;34m(self, expand, parse_dates)\u001b[0m\n\u001b[0;32m    674\u001b[0m \u001b[39mimport\u001b[39;00m \u001b[39mpandas\u001b[39;00m \u001b[39mas\u001b[39;00m \u001b[39mpd\u001b[39;00m  \u001b[39m# type: ignore[import]\u001b[39;00m\n\u001b[0;32m    676\u001b[0m \u001b[39mif\u001b[39;00m \u001b[39mnot\u001b[39;00m expand:\n\u001b[1;32m--> 677\u001b[0m     df \u001b[39m=\u001b[39m pd\u001b[39m.\u001b[39mDataFrame(\u001b[39mself\u001b[39;49m\u001b[39m.\u001b[39;49mvalues(), columns\u001b[39m=\u001b[39m\u001b[39mself\u001b[39m\u001b[39m.\u001b[39m_keys)\n\u001b[0;32m    678\u001b[0m \u001b[39melse\u001b[39;00m:\n\u001b[0;32m    679\u001b[0m     df_keys \u001b[39m=\u001b[39m \u001b[39mNone\u001b[39;00m\n",
      "File \u001b[1;32mc:\\Users\\ahmzar\\Desktop\\Mqtt_server\\env\\lib\\site-packages\\neo4j\\_sync\\work\\result.py:563\u001b[0m, in \u001b[0;36mResult.values\u001b[1;34m(self, *keys)\u001b[0m\n\u001b[0;32m    545\u001b[0m \u001b[39mdef\u001b[39;00m \u001b[39mvalues\u001b[39m(\n\u001b[0;32m    546\u001b[0m     \u001b[39mself\u001b[39m, \u001b[39m*\u001b[39mkeys: _T_ResultKey\n\u001b[0;32m    547\u001b[0m ) \u001b[39m-\u001b[39m\u001b[39m>\u001b[39m t\u001b[39m.\u001b[39mList[t\u001b[39m.\u001b[39mList[t\u001b[39m.\u001b[39mAny]]:\n\u001b[0;32m    548\u001b[0m     \u001b[39m\"\"\"Helper function that return the remainder of the result as a list of values lists.\u001b[39;00m\n\u001b[0;32m    549\u001b[0m \n\u001b[0;32m    550\u001b[0m \u001b[39m    See :class:`neo4j.Record.values`\u001b[39;00m\n\u001b[1;32m   (...)\u001b[0m\n\u001b[0;32m    561\u001b[0m \u001b[39m        Can raise :exc:`ResultConsumedError`.\u001b[39;00m\n\u001b[0;32m    562\u001b[0m \u001b[39m    \"\"\"\u001b[39;00m\n\u001b[1;32m--> 563\u001b[0m     \u001b[39mreturn\u001b[39;00m [record\u001b[39m.\u001b[39mvalues(\u001b[39m*\u001b[39mkeys) \u001b[39mfor\u001b[39;00m record \u001b[39min\u001b[39;00m \u001b[39mself\u001b[39m]\n",
      "File \u001b[1;32mc:\\Users\\ahmzar\\Desktop\\Mqtt_server\\env\\lib\\site-packages\\neo4j\\_sync\\work\\result.py:563\u001b[0m, in \u001b[0;36m<listcomp>\u001b[1;34m(.0)\u001b[0m\n\u001b[0;32m    545\u001b[0m \u001b[39mdef\u001b[39;00m \u001b[39mvalues\u001b[39m(\n\u001b[0;32m    546\u001b[0m     \u001b[39mself\u001b[39m, \u001b[39m*\u001b[39mkeys: _T_ResultKey\n\u001b[0;32m    547\u001b[0m ) \u001b[39m-\u001b[39m\u001b[39m>\u001b[39m t\u001b[39m.\u001b[39mList[t\u001b[39m.\u001b[39mList[t\u001b[39m.\u001b[39mAny]]:\n\u001b[0;32m    548\u001b[0m     \u001b[39m\"\"\"Helper function that return the remainder of the result as a list of values lists.\u001b[39;00m\n\u001b[0;32m    549\u001b[0m \n\u001b[0;32m    550\u001b[0m \u001b[39m    See :class:`neo4j.Record.values`\u001b[39;00m\n\u001b[1;32m   (...)\u001b[0m\n\u001b[0;32m    561\u001b[0m \u001b[39m        Can raise :exc:`ResultConsumedError`.\u001b[39;00m\n\u001b[0;32m    562\u001b[0m \u001b[39m    \"\"\"\u001b[39;00m\n\u001b[1;32m--> 563\u001b[0m     \u001b[39mreturn\u001b[39;00m [record\u001b[39m.\u001b[39mvalues(\u001b[39m*\u001b[39mkeys) \u001b[39mfor\u001b[39;00m record \u001b[39min\u001b[39;00m \u001b[39mself\u001b[39m]\n",
      "File \u001b[1;32mc:\\Users\\ahmzar\\Desktop\\Mqtt_server\\env\\lib\\site-packages\\neo4j\\_sync\\work\\result.py:249\u001b[0m, in \u001b[0;36mResult.__iter__\u001b[1;34m(self)\u001b[0m\n\u001b[0;32m    247\u001b[0m     \u001b[39myield\u001b[39;00m \u001b[39mself\u001b[39m\u001b[39m.\u001b[39m_record_buffer\u001b[39m.\u001b[39mpopleft()\n\u001b[0;32m    248\u001b[0m \u001b[39melif\u001b[39;00m \u001b[39mself\u001b[39m\u001b[39m.\u001b[39m_streaming:\n\u001b[1;32m--> 249\u001b[0m     \u001b[39mself\u001b[39;49m\u001b[39m.\u001b[39;49m_connection\u001b[39m.\u001b[39;49mfetch_message()\n\u001b[0;32m    250\u001b[0m \u001b[39melif\u001b[39;00m \u001b[39mself\u001b[39m\u001b[39m.\u001b[39m_discarding:\n\u001b[0;32m    251\u001b[0m     \u001b[39mself\u001b[39m\u001b[39m.\u001b[39m_discard()\n",
      "File \u001b[1;32mc:\\Users\\ahmzar\\Desktop\\Mqtt_server\\env\\lib\\site-packages\\neo4j\\_sync\\io\\_common.py:178\u001b[0m, in \u001b[0;36mConnectionErrorHandler.__getattr__.<locals>.outer.<locals>.inner\u001b[1;34m(*args, **kwargs)\u001b[0m\n\u001b[0;32m    176\u001b[0m \u001b[39mdef\u001b[39;00m \u001b[39minner\u001b[39m(\u001b[39m*\u001b[39margs, \u001b[39m*\u001b[39m\u001b[39m*\u001b[39mkwargs):\n\u001b[0;32m    177\u001b[0m     \u001b[39mtry\u001b[39;00m:\n\u001b[1;32m--> 178\u001b[0m         func(\u001b[39m*\u001b[39margs, \u001b[39m*\u001b[39m\u001b[39m*\u001b[39mkwargs)\n\u001b[0;32m    179\u001b[0m     \u001b[39mexcept\u001b[39;00m (Neo4jError, ServiceUnavailable, SessionExpired) \u001b[39mas\u001b[39;00m exc:\n\u001b[0;32m    180\u001b[0m         \u001b[39massert\u001b[39;00m \u001b[39mnot\u001b[39;00m asyncio\u001b[39m.\u001b[39miscoroutinefunction(\u001b[39mself\u001b[39m\u001b[39m.\u001b[39m__on_error)\n",
      "File \u001b[1;32mc:\\Users\\ahmzar\\Desktop\\Mqtt_server\\env\\lib\\site-packages\\neo4j\\_sync\\io\\_bolt.py:655\u001b[0m, in \u001b[0;36mBolt.fetch_message\u001b[1;34m(self)\u001b[0m\n\u001b[0;32m    651\u001b[0m \u001b[39m# Receive exactly one message\u001b[39;00m\n\u001b[0;32m    652\u001b[0m tag, fields \u001b[39m=\u001b[39m \u001b[39mself\u001b[39m\u001b[39m.\u001b[39minbox\u001b[39m.\u001b[39mpop(\n\u001b[0;32m    653\u001b[0m     hydration_hooks\u001b[39m=\u001b[39m\u001b[39mself\u001b[39m\u001b[39m.\u001b[39mresponses[\u001b[39m0\u001b[39m]\u001b[39m.\u001b[39mhydration_hooks\n\u001b[0;32m    654\u001b[0m )\n\u001b[1;32m--> 655\u001b[0m res \u001b[39m=\u001b[39m \u001b[39mself\u001b[39;49m\u001b[39m.\u001b[39;49m_process_message(tag, fields)\n\u001b[0;32m    656\u001b[0m \u001b[39mself\u001b[39m\u001b[39m.\u001b[39midle_since \u001b[39m=\u001b[39m perf_counter()\n\u001b[0;32m    657\u001b[0m \u001b[39mreturn\u001b[39;00m res\n",
      "File \u001b[1;32mc:\\Users\\ahmzar\\Desktop\\Mqtt_server\\env\\lib\\site-packages\\neo4j\\_sync\\io\\_bolt4.py:326\u001b[0m, in \u001b[0;36mBolt4x0._process_message\u001b[1;34m(self, tag, fields)\u001b[0m\n\u001b[0;32m    324\u001b[0m \u001b[39mself\u001b[39m\u001b[39m.\u001b[39m_server_state_manager\u001b[39m.\u001b[39mstate \u001b[39m=\u001b[39m ServerStates\u001b[39m.\u001b[39mFAILED\n\u001b[0;32m    325\u001b[0m \u001b[39mtry\u001b[39;00m:\n\u001b[1;32m--> 326\u001b[0m     response\u001b[39m.\u001b[39;49mon_failure(summary_metadata \u001b[39mor\u001b[39;49;00m {})\n\u001b[0;32m    327\u001b[0m \u001b[39mexcept\u001b[39;00m (ServiceUnavailable, DatabaseUnavailable):\n\u001b[0;32m    328\u001b[0m     \u001b[39mif\u001b[39;00m \u001b[39mself\u001b[39m\u001b[39m.\u001b[39mpool:\n",
      "File \u001b[1;32mc:\\Users\\ahmzar\\Desktop\\Mqtt_server\\env\\lib\\site-packages\\neo4j\\_sync\\io\\_common.py:245\u001b[0m, in \u001b[0;36mResponse.on_failure\u001b[1;34m(self, metadata)\u001b[0m\n\u001b[0;32m    243\u001b[0m handler \u001b[39m=\u001b[39m \u001b[39mself\u001b[39m\u001b[39m.\u001b[39mhandlers\u001b[39m.\u001b[39mget(\u001b[39m\"\u001b[39m\u001b[39mon_summary\u001b[39m\u001b[39m\"\u001b[39m)\n\u001b[0;32m    244\u001b[0m Util\u001b[39m.\u001b[39mcallback(handler)\n\u001b[1;32m--> 245\u001b[0m \u001b[39mraise\u001b[39;00m Neo4jError\u001b[39m.\u001b[39mhydrate(\u001b[39m*\u001b[39m\u001b[39m*\u001b[39mmetadata)\n",
      "\u001b[1;31mClientError\u001b[0m: {code: Neo.ClientError.Procedure.ProcedureCallFailed} {message: Failed to invoke procedure `gds.fastRP.mutate`: Caused by: java.lang.IllegalArgumentException: Node property `fastrp-embedding` already exists in the in-memory graph.}"
     ]
    }
   ],
   "source": [
    "# Now let's run FastRP and mutate our projected graph 'purchases' with the results\n",
    "result = gds.fastRP.mutate(\n",
    "  G ,\n",
    " \n",
    "    mutateProperty= 'fastrp-embedding',\n",
    "    embeddingDimension=4,\n",
    "   \n",
    "\n",
    ")\n",
    "\n",
    "# Let's make sure we got an embedding for each node\n",
    "print(f\"Number of embedding vectors produced: {result.keys()}\")"
   ]
  },
  {
   "cell_type": "code",
   "execution_count": 46,
   "metadata": {},
   "outputs": [
    {
     "name": "stdout",
     "output_type": "stream",
     "text": [
      "Relationships produced: 90\n",
      "Nodes compared: 45\n",
      "Mean similarity: 0.286712646484375\n"
     ]
    }
   ],
   "source": [
    "# Run kNN and write back to db (we skip memory estimation this time...)\n",
    "result = gds.knn.write(\n",
    "    G,\n",
    "    topK=2,\n",
    "    nodeProperties=[\"fastrp-embedding\"],\n",
    "    randomSeed=42,\n",
    "    concurrency=1,\n",
    "    sampleRate=1.0,\n",
    "    deltaThreshold=0.0,\n",
    "    writeRelationshipType=\"SIMILAR\",\n",
    "    writeProperty=\"score\",\n",
    ")\n",
    "\n",
    "print(f\"Relationships produced: {result['relationshipsWritten']}\")\n",
    "print(f\"Nodes compared: {result['nodesCompared']}\")\n",
    "print(f\"Mean similarity: {result['similarityDistribution']['mean']}\")"
   ]
  },
  {
   "cell_type": "code",
   "execution_count": 47,
   "metadata": {},
   "outputs": [
    {
     "data": {
      "text/html": [
       "<div>\n",
       "<style scoped>\n",
       "    .dataframe tbody tr th:only-of-type {\n",
       "        vertical-align: middle;\n",
       "    }\n",
       "\n",
       "    .dataframe tbody tr th {\n",
       "        vertical-align: top;\n",
       "    }\n",
       "\n",
       "    .dataframe thead th {\n",
       "        text-align: right;\n",
       "    }\n",
       "</style>\n",
       "<table border=\"1\" class=\"dataframe\">\n",
       "  <thead>\n",
       "    <tr style=\"text-align: right;\">\n",
       "      <th></th>\n",
       "      <th>venti_1</th>\n",
       "      <th>venti_2</th>\n",
       "      <th>similarity</th>\n",
       "    </tr>\n",
       "  </thead>\n",
       "  <tbody>\n",
       "    <tr>\n",
       "      <th>0</th>\n",
       "      <td>Tilluft_hub8</td>\n",
       "      <td>Tilluft_hub9</td>\n",
       "      <td>1.000000</td>\n",
       "    </tr>\n",
       "    <tr>\n",
       "      <th>1</th>\n",
       "      <td>Tilluft_hub9</td>\n",
       "      <td>Tilluft_hub8</td>\n",
       "      <td>1.000000</td>\n",
       "    </tr>\n",
       "    <tr>\n",
       "      <th>2</th>\n",
       "      <td>Tilluft_hub3</td>\n",
       "      <td>Tilluft_hub4</td>\n",
       "      <td>0.942887</td>\n",
       "    </tr>\n",
       "    <tr>\n",
       "      <th>3</th>\n",
       "      <td>Tilluft_hub4</td>\n",
       "      <td>Tilluft_hub3</td>\n",
       "      <td>0.942887</td>\n",
       "    </tr>\n",
       "    <tr>\n",
       "      <th>4</th>\n",
       "      <td>Tilluft_hub7</td>\n",
       "      <td>Tilluft_hub8</td>\n",
       "      <td>0.934996</td>\n",
       "    </tr>\n",
       "    <tr>\n",
       "      <th>5</th>\n",
       "      <td>Tilluft_hub7</td>\n",
       "      <td>Tilluft_hub9</td>\n",
       "      <td>0.934996</td>\n",
       "    </tr>\n",
       "    <tr>\n",
       "      <th>6</th>\n",
       "      <td>Tilluft_hub8</td>\n",
       "      <td>Tilluft_hub7</td>\n",
       "      <td>0.934996</td>\n",
       "    </tr>\n",
       "    <tr>\n",
       "      <th>7</th>\n",
       "      <td>Tilluft_hub9</td>\n",
       "      <td>Tilluft_hub7</td>\n",
       "      <td>0.934996</td>\n",
       "    </tr>\n",
       "    <tr>\n",
       "      <th>8</th>\n",
       "      <td>Tilluft_hub2</td>\n",
       "      <td>Tilluft_hub5</td>\n",
       "      <td>0.925002</td>\n",
       "    </tr>\n",
       "    <tr>\n",
       "      <th>9</th>\n",
       "      <td>Tilluft_hub5</td>\n",
       "      <td>Tilluft_hub2</td>\n",
       "      <td>0.925002</td>\n",
       "    </tr>\n",
       "    <tr>\n",
       "      <th>10</th>\n",
       "      <td>Tilluft_hub3</td>\n",
       "      <td>Tilluft_hub5</td>\n",
       "      <td>0.884737</td>\n",
       "    </tr>\n",
       "    <tr>\n",
       "      <th>11</th>\n",
       "      <td>Tilluft_hub5</td>\n",
       "      <td>Tilluft_hub3</td>\n",
       "      <td>0.884737</td>\n",
       "    </tr>\n",
       "    <tr>\n",
       "      <th>12</th>\n",
       "      <td>Tilluft_hub2</td>\n",
       "      <td>Tilluft_hub3</td>\n",
       "      <td>0.828636</td>\n",
       "    </tr>\n",
       "    <tr>\n",
       "      <th>13</th>\n",
       "      <td>Tilluft_hub4</td>\n",
       "      <td>Tilluft_hub2</td>\n",
       "      <td>0.813536</td>\n",
       "    </tr>\n",
       "    <tr>\n",
       "      <th>14</th>\n",
       "      <td>Tilluft_hub1</td>\n",
       "      <td>Tilluft_hub4</td>\n",
       "      <td>0.767174</td>\n",
       "    </tr>\n",
       "    <tr>\n",
       "      <th>15</th>\n",
       "      <td>Frånluft_hub1</td>\n",
       "      <td>Tilluft_hub10</td>\n",
       "      <td>0.000000</td>\n",
       "    </tr>\n",
       "    <tr>\n",
       "      <th>16</th>\n",
       "      <td>Tilluft_hub10</td>\n",
       "      <td>Tilluft_hub9</td>\n",
       "      <td>0.000000</td>\n",
       "    </tr>\n",
       "  </tbody>\n",
       "</table>\n",
       "</div>"
      ],
      "text/plain": [
       "          venti_1        venti_2  similarity\n",
       "0    Tilluft_hub8   Tilluft_hub9    1.000000\n",
       "1    Tilluft_hub9   Tilluft_hub8    1.000000\n",
       "2    Tilluft_hub3   Tilluft_hub4    0.942887\n",
       "3    Tilluft_hub4   Tilluft_hub3    0.942887\n",
       "4    Tilluft_hub7   Tilluft_hub8    0.934996\n",
       "5    Tilluft_hub7   Tilluft_hub9    0.934996\n",
       "6    Tilluft_hub8   Tilluft_hub7    0.934996\n",
       "7    Tilluft_hub9   Tilluft_hub7    0.934996\n",
       "8    Tilluft_hub2   Tilluft_hub5    0.925002\n",
       "9    Tilluft_hub5   Tilluft_hub2    0.925002\n",
       "10   Tilluft_hub3   Tilluft_hub5    0.884737\n",
       "11   Tilluft_hub5   Tilluft_hub3    0.884737\n",
       "12   Tilluft_hub2   Tilluft_hub3    0.828636\n",
       "13   Tilluft_hub4   Tilluft_hub2    0.813536\n",
       "14   Tilluft_hub1   Tilluft_hub4    0.767174\n",
       "15  Frånluft_hub1  Tilluft_hub10    0.000000\n",
       "16  Tilluft_hub10   Tilluft_hub9    0.000000"
      ]
     },
     "execution_count": 47,
     "metadata": {},
     "output_type": "execute_result"
    }
   ],
   "source": [
    "gds.run_cypher(\n",
    "    \"\"\"\n",
    "        MATCH (p1:Hub)-[r:SIMILAR]->(p2:Hub)\n",
    "        RETURN p1.name AS venti_1, p2.name AS venti_2, r.score AS similarity\n",
    "        ORDER BY similarity DESCENDING, venti_1, venti_2\n",
    "    \"\"\"\n",
    ")\n"
   ]
  },
  {
   "cell_type": "code",
   "execution_count": 48,
   "metadata": {},
   "outputs": [
    {
     "data": {
      "text/html": [
       "<div>\n",
       "<style scoped>\n",
       "    .dataframe tbody tr th:only-of-type {\n",
       "        vertical-align: middle;\n",
       "    }\n",
       "\n",
       "    .dataframe tbody tr th {\n",
       "        vertical-align: top;\n",
       "    }\n",
       "\n",
       "    .dataframe thead th {\n",
       "        text-align: right;\n",
       "    }\n",
       "</style>\n",
       "<table border=\"1\" class=\"dataframe\">\n",
       "  <thead>\n",
       "    <tr style=\"text-align: right;\">\n",
       "      <th></th>\n",
       "      <th>recommendation</th>\n",
       "    </tr>\n",
       "  </thead>\n",
       "  <tbody>\n",
       "    <tr>\n",
       "      <th>0</th>\n",
       "      <td>Tilluft_hub10</td>\n",
       "    </tr>\n",
       "    <tr>\n",
       "      <th>1</th>\n",
       "      <td>Tilluft_hub7</td>\n",
       "    </tr>\n",
       "  </tbody>\n",
       "</table>\n",
       "</div>"
      ],
      "text/plain": [
       "  recommendation\n",
       "0  Tilluft_hub10\n",
       "1   Tilluft_hub7"
      ]
     },
     "execution_count": 48,
     "metadata": {},
     "output_type": "execute_result"
    }
   ],
   "source": [
    "gds.run_cypher(\n",
    "    \"\"\"\n",
    "        MATCH (:Hub {name:\"Frånluft_hub2\"})-->(p1:Hub)\n",
    "        WITH collect(p1) as products\n",
    "        MATCH (:Hub {name: \"Tilluft_hub6\"})-->(p2:Hub)\n",
    "        WHERE not p2 in products\n",
    "        RETURN p2.name as recommendation\n",
    "    \"\"\"\n",
    ")"
   ]
  },
  {
   "cell_type": "code",
   "execution_count": 50,
   "metadata": {},
   "outputs": [
    {
     "data": {
      "text/plain": [
       "(LPTrainingPipeline({'pipelineInfo': {0: {'featurePipeline': {'nodePropertySteps': [], 'featureSteps': []}, 'splitConfig': {'negativeSamplingRatio': 1.0, 'testFraction': 0.1, 'validationFolds': 3, 'trainFraction': 0.1}, 'trainingParameterSpace': {'MultilayerPerceptron': [], 'RandomForest': [], 'LogisticRegression': []}, 'autoTuningConfig': {'maxTrials': 10}}}, 'pipelineName': {0: 'pipe_1'}, 'pipelineType': {0: 'Link prediction training pipeline'}, 'creationTime': {0: neo4j.time.DateTime(2022, 11, 7, 9, 26, 19, 763404300, tzinfo=<DstTzInfo 'Europe/Berlin' CET+1:00:00 STD>)}}),\n",
       " name                                                            pipe_1\n",
       " nodePropertySteps                                                   []\n",
       " featureSteps                                                        []\n",
       " splitConfig          {'negativeSamplingRatio': 1.0, 'testFraction':...\n",
       " autoTuningConfig                                     {'maxTrials': 10}\n",
       " parameterSpace       {'MultilayerPerceptron': [], 'RandomForest': [...\n",
       " Name: 0, dtype: object)"
      ]
     },
     "execution_count": 50,
     "metadata": {},
     "output_type": "execute_result"
    }
   ],
   "source": [
    "gds.beta.pipeline.linkPrediction.create('pipe_1')"
   ]
  }
 ],
 "metadata": {
  "kernelspec": {
   "display_name": "Python 3.10.8 ('env': venv)",
   "language": "python",
   "name": "python3"
  },
  "language_info": {
   "codemirror_mode": {
    "name": "ipython",
    "version": 3
   },
   "file_extension": ".py",
   "mimetype": "text/x-python",
   "name": "python",
   "nbconvert_exporter": "python",
   "pygments_lexer": "ipython3",
   "version": "3.10.8"
  },
  "orig_nbformat": 4,
  "vscode": {
   "interpreter": {
    "hash": "24b2516218f01c8cdf8c63b4b81a21b8a28a7afd0d34805806f72160f6e0c712"
   }
  }
 },
 "nbformat": 4,
 "nbformat_minor": 2
}
