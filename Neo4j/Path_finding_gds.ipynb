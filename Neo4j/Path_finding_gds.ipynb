{
 "cells": [
  {
   "cell_type": "markdown",
   "metadata": {},
   "source": [
    "### koppla databas & server"
   ]
  },
  {
   "cell_type": "code",
   "execution_count": 13,
   "metadata": {},
   "outputs": [],
   "source": [
    "import pandas as pd\n",
    "from neo4j import GraphDatabase\n",
    "from graphdatascience import GraphDataScience\n",
    "import seaborn as sns\n",
    "import matplotlib.pyplot as plt\n",
    "\n",
    "\n"
   ]
  },
  {
   "cell_type": "code",
   "execution_count": 14,
   "metadata": {},
   "outputs": [],
   "source": [
    "graph_db =  GraphDatabase.driver(uri = \"bolt://localhost:7687\", auth=(\"neo4j\", \"password\"))"
   ]
  },
  {
   "cell_type": "code",
   "execution_count": 15,
   "metadata": {},
   "outputs": [],
   "source": [
    "URI  = \"bolt://localhost:7687\"\n",
    "creds=(\"neo4j\", \"password\")\n",
    "\n",
    "gds =  GraphDataScience(URI,auth=(creds ))\n"
   ]
  },
  {
   "cell_type": "markdown",
   "metadata": {},
   "source": [
    "### Skapar project"
   ]
  },
  {
   "cell_type": "code",
   "execution_count": 17,
   "metadata": {},
   "outputs": [
    {
     "data": {
      "text/html": [
       "<div>\n",
       "<style scoped>\n",
       "    .dataframe tbody tr th:only-of-type {\n",
       "        vertical-align: middle;\n",
       "    }\n",
       "\n",
       "    .dataframe tbody tr th {\n",
       "        vertical-align: top;\n",
       "    }\n",
       "\n",
       "    .dataframe thead th {\n",
       "        text-align: right;\n",
       "    }\n",
       "</style>\n",
       "<table border=\"1\" class=\"dataframe\">\n",
       "  <thead>\n",
       "    <tr style=\"text-align: right;\">\n",
       "      <th></th>\n",
       "      <th>nodeProjection</th>\n",
       "      <th>relationshipProjection</th>\n",
       "      <th>graphName</th>\n",
       "      <th>nodeCount</th>\n",
       "      <th>relationshipCount</th>\n",
       "      <th>projectMillis</th>\n",
       "    </tr>\n",
       "  </thead>\n",
       "  <tbody>\n",
       "    <tr>\n",
       "      <th>0</th>\n",
       "      <td>{'__ALL__': {'label': '*', 'properties': {}}}</td>\n",
       "      <td>{'__ALL__': {'orientation': 'NATURAL', 'aggreg...</td>\n",
       "      <td>myGraph_1</td>\n",
       "      <td>61</td>\n",
       "      <td>100</td>\n",
       "      <td>8</td>\n",
       "    </tr>\n",
       "  </tbody>\n",
       "</table>\n",
       "</div>"
      ],
      "text/plain": [
       "                                  nodeProjection  \\\n",
       "0  {'__ALL__': {'label': '*', 'properties': {}}}   \n",
       "\n",
       "                              relationshipProjection  graphName  nodeCount  \\\n",
       "0  {'__ALL__': {'orientation': 'NATURAL', 'aggreg...  myGraph_1         61   \n",
       "\n",
       "   relationshipCount  projectMillis  \n",
       "0                100              8  "
      ]
     },
     "metadata": {},
     "output_type": "display_data"
    }
   ],
   "source": [
    "result = gds.run_cypher(\n",
    "  \"\"\"\n",
    " CALL gds.graph.project(\n",
    "    'myGraph_1',\n",
    "    '*',\n",
    "    '*',\n",
    "    {\n",
    "        relationshipProperties: 'distance'\n",
    "    }\n",
    ")\n",
    "  \"\"\"\n",
    ")\n",
    "display(result)"
   ]
  },
  {
   "cell_type": "markdown",
   "metadata": {},
   "source": [
    "### ta bort om den finns"
   ]
  },
  {
   "cell_type": "code",
   "execution_count": 16,
   "metadata": {},
   "outputs": [
    {
     "data": {
      "text/html": [
       "<div>\n",
       "<style scoped>\n",
       "    .dataframe tbody tr th:only-of-type {\n",
       "        vertical-align: middle;\n",
       "    }\n",
       "\n",
       "    .dataframe tbody tr th {\n",
       "        vertical-align: top;\n",
       "    }\n",
       "\n",
       "    .dataframe thead th {\n",
       "        text-align: right;\n",
       "    }\n",
       "</style>\n",
       "<table border=\"1\" class=\"dataframe\">\n",
       "  <thead>\n",
       "    <tr style=\"text-align: right;\">\n",
       "      <th></th>\n",
       "      <th>graphName</th>\n",
       "      <th>database</th>\n",
       "      <th>memoryUsage</th>\n",
       "      <th>sizeInBytes</th>\n",
       "      <th>nodeCount</th>\n",
       "      <th>relationshipCount</th>\n",
       "      <th>configuration</th>\n",
       "      <th>density</th>\n",
       "      <th>creationTime</th>\n",
       "      <th>modificationTime</th>\n",
       "      <th>schema</th>\n",
       "    </tr>\n",
       "  </thead>\n",
       "  <tbody>\n",
       "    <tr>\n",
       "      <th>0</th>\n",
       "      <td>myGraph</td>\n",
       "      <td>neo4j</td>\n",
       "      <td></td>\n",
       "      <td>-1</td>\n",
       "      <td>61</td>\n",
       "      <td>100</td>\n",
       "      <td>{'relationshipProjection': {'__ALL__': {'orien...</td>\n",
       "      <td>0.027322</td>\n",
       "      <td>2022-11-10T15:54:14.116785200+01:00</td>\n",
       "      <td>2022-11-10T15:54:14.121797100+01:00</td>\n",
       "      <td>{'graphProperties': {}, 'relationships': {'__A...</td>\n",
       "    </tr>\n",
       "  </tbody>\n",
       "</table>\n",
       "</div>"
      ],
      "text/plain": [
       "  graphName database memoryUsage  sizeInBytes  nodeCount  relationshipCount  \\\n",
       "0   myGraph    neo4j                       -1         61                100   \n",
       "\n",
       "                                       configuration   density  \\\n",
       "0  {'relationshipProjection': {'__ALL__': {'orien...  0.027322   \n",
       "\n",
       "                          creationTime                     modificationTime  \\\n",
       "0  2022-11-10T15:54:14.116785200+01:00  2022-11-10T15:54:14.121797100+01:00   \n",
       "\n",
       "                                              schema  \n",
       "0  {'graphProperties': {}, 'relationships': {'__A...  "
      ]
     },
     "metadata": {},
     "output_type": "display_data"
    }
   ],
   "source": [
    "result = gds.run_cypher(\n",
    "  \"\"\"\n",
    "    CALL gds.graph.drop('myGraph')\n",
    "  \"\"\"\n",
    ")\n",
    "display(result)"
   ]
  },
  {
   "cell_type": "markdown",
   "metadata": {},
   "source": [
    "### lista vilka project som är skapade"
   ]
  },
  {
   "cell_type": "code",
   "execution_count": 18,
   "metadata": {},
   "outputs": [
    {
     "data": {
      "text/html": [
       "<div>\n",
       "<style scoped>\n",
       "    .dataframe tbody tr th:only-of-type {\n",
       "        vertical-align: middle;\n",
       "    }\n",
       "\n",
       "    .dataframe tbody tr th {\n",
       "        vertical-align: top;\n",
       "    }\n",
       "\n",
       "    .dataframe thead th {\n",
       "        text-align: right;\n",
       "    }\n",
       "</style>\n",
       "<table border=\"1\" class=\"dataframe\">\n",
       "  <thead>\n",
       "    <tr style=\"text-align: right;\">\n",
       "      <th></th>\n",
       "      <th>degreeDistribution</th>\n",
       "      <th>graphName</th>\n",
       "      <th>database</th>\n",
       "      <th>memoryUsage</th>\n",
       "      <th>sizeInBytes</th>\n",
       "      <th>nodeCount</th>\n",
       "      <th>relationshipCount</th>\n",
       "      <th>configuration</th>\n",
       "      <th>density</th>\n",
       "      <th>creationTime</th>\n",
       "      <th>modificationTime</th>\n",
       "      <th>schema</th>\n",
       "    </tr>\n",
       "  </thead>\n",
       "  <tbody>\n",
       "    <tr>\n",
       "      <th>0</th>\n",
       "      <td>{'p99': 6, 'min': 0, 'max': 9, 'mean': 1.63934...</td>\n",
       "      <td>myGraph_1</td>\n",
       "      <td>neo4j</td>\n",
       "      <td>2348 KiB</td>\n",
       "      <td>2404472</td>\n",
       "      <td>61</td>\n",
       "      <td>100</td>\n",
       "      <td>{}</td>\n",
       "      <td>0.027322</td>\n",
       "      <td>2022-11-11T08:43:32.303128800+01:00</td>\n",
       "      <td>2022-11-11T08:43:32.309131800+01:00</td>\n",
       "      <td>{'graphProperties': {}, 'relationships': {'__A...</td>\n",
       "    </tr>\n",
       "  </tbody>\n",
       "</table>\n",
       "</div>"
      ],
      "text/plain": [
       "                                  degreeDistribution  graphName database  \\\n",
       "0  {'p99': 6, 'min': 0, 'max': 9, 'mean': 1.63934...  myGraph_1    neo4j   \n",
       "\n",
       "  memoryUsage  sizeInBytes  nodeCount  relationshipCount configuration  \\\n",
       "0    2348 KiB      2404472         61                100            {}   \n",
       "\n",
       "    density                         creationTime  \\\n",
       "0  0.027322  2022-11-11T08:43:32.303128800+01:00   \n",
       "\n",
       "                      modificationTime  \\\n",
       "0  2022-11-11T08:43:32.309131800+01:00   \n",
       "\n",
       "                                              schema  \n",
       "0  {'graphProperties': {}, 'relationships': {'__A...  "
      ]
     },
     "metadata": {},
     "output_type": "display_data"
    }
   ],
   "source": [
    "\n",
    "result = gds.run_cypher(\n",
    "  \"\"\"\n",
    "    CALL gds.graph.list()\n",
    "  \"\"\"\n",
    ")\n",
    "display(result)"
   ]
  },
  {
   "cell_type": "markdown",
   "metadata": {},
   "source": [
    "##### Först och främst kommer vi att uppskatta kostnaden för att köra algoritmen med hjälp av estimateproceduren. Detta kan göras med vilket exekveringsläge som helst. Vi kommer att använda writeläget i detta exempel. Att uppskatta algoritmen är användbart för att förstå den minneseffekt som körning av algoritmen på din graf kommer att ha. När du senare faktiskt kör algoritmen i ett av exekveringslägena kommer systemet att utföra en uppskattning. Om uppskattningen visar att det finns en mycket hög sannolikhet att exekveringen överskrider sina minnesbegränsningar, är exekveringen förbjuden"
   ]
  },
  {
   "cell_type": "code",
   "execution_count": 103,
   "metadata": {},
   "outputs": [
    {
     "data": {
      "text/html": [
       "<div>\n",
       "<style scoped>\n",
       "    .dataframe tbody tr th:only-of-type {\n",
       "        vertical-align: middle;\n",
       "    }\n",
       "\n",
       "    .dataframe tbody tr th {\n",
       "        vertical-align: top;\n",
       "    }\n",
       "\n",
       "    .dataframe thead th {\n",
       "        text-align: right;\n",
       "    }\n",
       "</style>\n",
       "<table border=\"1\" class=\"dataframe\">\n",
       "  <thead>\n",
       "    <tr style=\"text-align: right;\">\n",
       "      <th></th>\n",
       "      <th>nodeCount</th>\n",
       "      <th>relationshipCount</th>\n",
       "      <th>bytesMin</th>\n",
       "      <th>bytesMax</th>\n",
       "      <th>requiredMemory</th>\n",
       "    </tr>\n",
       "  </thead>\n",
       "  <tbody>\n",
       "    <tr>\n",
       "      <th>0</th>\n",
       "      <td>61</td>\n",
       "      <td>100</td>\n",
       "      <td>2672</td>\n",
       "      <td>2672</td>\n",
       "      <td>2672 Bytes</td>\n",
       "    </tr>\n",
       "  </tbody>\n",
       "</table>\n",
       "</div>"
      ],
      "text/plain": [
       "   nodeCount  relationshipCount  bytesMin  bytesMax requiredMemory\n",
       "0         61                100      2672      2672     2672 Bytes"
      ]
     },
     "metadata": {},
     "output_type": "display_data"
    }
   ],
   "source": [
    "result = gds.run_cypher(\n",
    "  \"\"\"\n",
    "MATCH (source:Aggregat {name: 'Airaggregat'}), (target:Sensor {name: 'sensor_5'})\n",
    "\n",
    "CALL gds.shortestPath.dijkstra.write.estimate('myGraph_1', {\n",
    "    sourceNode: source,\n",
    "    targetNode: target,\n",
    "    relationshipWeightProperty: 'distance',\n",
    "    writeRelationshipType: 'PATH'\n",
    "})\n",
    "YIELD nodeCount, relationshipCount, bytesMin, bytesMax, requiredMemory\n",
    "RETURN nodeCount, relationshipCount, bytesMin, bytesMax, requiredMemory\n",
    "  \"\"\"\n",
    ")\n",
    "display(result)\n",
    "\n"
   ]
  },
  {
   "cell_type": "markdown",
   "metadata": {},
   "source": [
    "##### I streamexekveringsläget returnerar algoritmen den kortaste vägen för varje käll-mål/node. Detta gör att vi kan inspektera resultaten direkt eller efterbehandla dem i Cypher utan några biverkningar. Resultatet visar den totala kostnaden för den kortaste vägen mellan nod Aggregat och nod Sensor. Den visar också en ordnad lista över nod-id som korsades för att hitta den kortaste vägen samt de ackumulerade kostnaderna för de besökta noderna"
   ]
  },
  {
   "cell_type": "code",
   "execution_count": 114,
   "metadata": {},
   "outputs": [
    {
     "data": {
      "text/html": [
       "<div>\n",
       "<style scoped>\n",
       "    .dataframe tbody tr th:only-of-type {\n",
       "        vertical-align: middle;\n",
       "    }\n",
       "\n",
       "    .dataframe tbody tr th {\n",
       "        vertical-align: top;\n",
       "    }\n",
       "\n",
       "    .dataframe thead th {\n",
       "        text-align: right;\n",
       "    }\n",
       "</style>\n",
       "<table border=\"1\" class=\"dataframe\">\n",
       "  <thead>\n",
       "    <tr style=\"text-align: right;\">\n",
       "      <th></th>\n",
       "      <th>index</th>\n",
       "      <th>sourceNodeName</th>\n",
       "      <th>targetNodeName</th>\n",
       "      <th>totalCost</th>\n",
       "      <th>nodeNames</th>\n",
       "      <th>distance</th>\n",
       "      <th>path</th>\n",
       "    </tr>\n",
       "  </thead>\n",
       "  <tbody>\n",
       "    <tr>\n",
       "      <th>0</th>\n",
       "      <td>0</td>\n",
       "      <td>Airaggregat</td>\n",
       "      <td>sensor_4</td>\n",
       "      <td>29.1</td>\n",
       "      <td>[Airaggregat, From_air, Tilluft_hub1, Tilluft_...</td>\n",
       "      <td>[0.0, 0.0, 10.5, 15.5, 18.5, 20.0, 28.1, 29.1]</td>\n",
       "      <td>[(name, To_air, From_air), (name, class), (nam...</td>\n",
       "    </tr>\n",
       "  </tbody>\n",
       "</table>\n",
       "</div>"
      ],
      "text/plain": [
       "   index sourceNodeName targetNodeName  totalCost  \\\n",
       "0      0    Airaggregat       sensor_4       29.1   \n",
       "\n",
       "                                           nodeNames  \\\n",
       "0  [Airaggregat, From_air, Tilluft_hub1, Tilluft_...   \n",
       "\n",
       "                                         distance  \\\n",
       "0  [0.0, 0.0, 10.5, 15.5, 18.5, 20.0, 28.1, 29.1]   \n",
       "\n",
       "                                                path  \n",
       "0  [(name, To_air, From_air), (name, class), (nam...  "
      ]
     },
     "metadata": {},
     "output_type": "display_data"
    },
    {
     "name": "stdout",
     "output_type": "stream",
     "text": [
      "Airaggregat ---Från källnod till målnod-----> From_air ---Från källnod till målnod-----> Tilluft_hub1 ---Från källnod till målnod-----> Tilluft_hub2 ---Från källnod till målnod-----> Tilluft_hub3 ---Från källnod till målnod-----> Tilluft_hub4 ---Från källnod till målnod-----> T104 ---Från källnod till målnod-----> sensor_4\n",
      "Totalt antal noder 8\n"
     ]
    },
    {
     "data": {
      "image/png": "[encoded data removed]",
      "text/plain": [
       "<Figure size 640x480 with 1 Axes>"
      ]
     },
     "metadata": {},
     "output_type": "display_data"
    }
   ],
   "source": [
    "result = gds.run_cypher(\n",
    " \"\"\"\n",
    "MATCH (source:Aggregat {name: 'Airaggregat'}), (target:Sensor {name: 'sensor_4'})\n",
    "CALL gds.shortestPath.dijkstra.stream('myGraph_1', {\n",
    "    sourceNode: source,\n",
    "    targetNode: target,\n",
    "    relationshipWeightProperty: 'distance'\n",
    "})\n",
    "YIELD index, sourceNode, targetNode, totalCost, nodeIds, costs, path\n",
    "RETURN\n",
    "    index,\n",
    "    gds.util.asNode(sourceNode).name AS sourceNodeName,\n",
    "    gds.util.asNode(targetNode).name AS targetNodeName,\n",
    "    totalCost,\n",
    "    [nodeId IN nodeIds | gds.util.asNode(nodeId).name] AS nodeNames,\n",
    "    costs as distance,\n",
    "    nodes(path) as path\n",
    "ORDER BY index\n",
    "\"\"\"\n",
    ")\n",
    "display(result)\n",
    "\n",
    "node=result['nodeNames']\n",
    "distance = result['distance']\n",
    "path = result['path']\n",
    "\n",
    "\n",
    "for x in node:\n",
    "  print(*x,sep=' ---Från källnod till målnod-----> ')\n",
    "\n",
    "print(f'Totalt antal noder {len(node[0])}')\n",
    "\n",
    "\n",
    "\n",
    "  \n",
    "for x in distance:\n",
    "  plt.plot(x)\n",
    "  plt.ylabel('Total avstånd')\n",
    "  plt.xlabel('Antal noder')\n",
    "  plt.show()\n",
    "\n",
    "\n"
   ]
  },
  {
   "cell_type": "code",
   "execution_count": 115,
   "metadata": {},
   "outputs": [
    {
     "data": {
      "text/html": [
       "<div>\n",
       "<style scoped>\n",
       "    .dataframe tbody tr th:only-of-type {\n",
       "        vertical-align: middle;\n",
       "    }\n",
       "\n",
       "    .dataframe tbody tr th {\n",
       "        vertical-align: top;\n",
       "    }\n",
       "\n",
       "    .dataframe thead th {\n",
       "        text-align: right;\n",
       "    }\n",
       "</style>\n",
       "<table border=\"1\" class=\"dataframe\">\n",
       "  <thead>\n",
       "    <tr style=\"text-align: right;\">\n",
       "      <th></th>\n",
       "      <th>nodesCompared</th>\n",
       "      <th>similarityPairs</th>\n",
       "    </tr>\n",
       "  </thead>\n",
       "  <tbody>\n",
       "    <tr>\n",
       "      <th>0</th>\n",
       "      <td>48</td>\n",
       "      <td>135</td>\n",
       "    </tr>\n",
       "  </tbody>\n",
       "</table>\n",
       "</div>"
      ],
      "text/plain": [
       "   nodesCompared  similarityPairs\n",
       "0             48              135"
      ]
     },
     "metadata": {},
     "output_type": "display_data"
    }
   ],
   "source": [
    "\n",
    "\n",
    "result = gds.run_cypher(\n",
    " \"\"\"\n",
    "CALL gds.nodeSimilarity.stats('myGraph_1')\n",
    "YIELD nodesCompared, similarityPairs\n",
    "\n",
    "\"\"\"\n",
    ")\n",
    "display(result)"
   ]
  },
  {
   "cell_type": "markdown",
   "metadata": {},
   "source": [
    "### Node_similarty\n",
    "#### Likhetsalgoritmer beräknar likheten mellan par av noder baserat på deras grannskap eller egenskaper. Algoritmen Node Similarity jämför en uppsättning noder baserat på noderna de är anslutna till. Två noder anses vara lika om de delar många av samma grannar.\n",
    "\n"
   ]
  },
  {
   "cell_type": "code",
   "execution_count": 23,
   "metadata": {},
   "outputs": [
    {
     "data": {
      "text/html": [
       "<div>\n",
       "<style scoped>\n",
       "    .dataframe tbody tr th:only-of-type {\n",
       "        vertical-align: middle;\n",
       "    }\n",
       "\n",
       "    .dataframe tbody tr th {\n",
       "        vertical-align: top;\n",
       "    }\n",
       "\n",
       "    .dataframe thead th {\n",
       "        text-align: right;\n",
       "    }\n",
       "</style>\n",
       "<table border=\"1\" class=\"dataframe\">\n",
       "  <thead>\n",
       "    <tr style=\"text-align: right;\">\n",
       "      <th></th>\n",
       "      <th>nodeProjection</th>\n",
       "      <th>relationshipProjection</th>\n",
       "      <th>graphName</th>\n",
       "      <th>nodeCount</th>\n",
       "      <th>relationshipCount</th>\n",
       "      <th>projectMillis</th>\n",
       "    </tr>\n",
       "  </thead>\n",
       "  <tbody>\n",
       "    <tr>\n",
       "      <th>0</th>\n",
       "      <td>{'__ALL__': {'label': '*', 'properties': {}}}</td>\n",
       "      <td>{'__ALL__': {'orientation': 'NATURAL', 'aggreg...</td>\n",
       "      <td>myGraph</td>\n",
       "      <td>61</td>\n",
       "      <td>100</td>\n",
       "      <td>7</td>\n",
       "    </tr>\n",
       "  </tbody>\n",
       "</table>\n",
       "</div>"
      ],
      "text/plain": [
       "                                  nodeProjection  \\\n",
       "0  {'__ALL__': {'label': '*', 'properties': {}}}   \n",
       "\n",
       "                              relationshipProjection graphName  nodeCount  \\\n",
       "0  {'__ALL__': {'orientation': 'NATURAL', 'aggreg...   myGraph         61   \n",
       "\n",
       "   relationshipCount  projectMillis  \n",
       "0                100              7  "
      ]
     },
     "metadata": {},
     "output_type": "display_data"
    }
   ],
   "source": [
    "result = gds.run_cypher(\n",
    "  \"\"\"\n",
    "CALL gds.graph.project('myGraph','*','*')\n",
    "  \"\"\"\n",
    ")\n",
    "display(result)"
   ]
  },
  {
   "cell_type": "code",
   "execution_count": 24,
   "metadata": {},
   "outputs": [
    {
     "data": {
      "text/html": [
       "<div>\n",
       "<style scoped>\n",
       "    .dataframe tbody tr th:only-of-type {\n",
       "        vertical-align: middle;\n",
       "    }\n",
       "\n",
       "    .dataframe tbody tr th {\n",
       "        vertical-align: top;\n",
       "    }\n",
       "\n",
       "    .dataframe thead th {\n",
       "        text-align: right;\n",
       "    }\n",
       "</style>\n",
       "<table border=\"1\" class=\"dataframe\">\n",
       "  <thead>\n",
       "    <tr style=\"text-align: right;\">\n",
       "      <th></th>\n",
       "      <th>degreeDistribution</th>\n",
       "      <th>graphName</th>\n",
       "      <th>database</th>\n",
       "      <th>memoryUsage</th>\n",
       "      <th>sizeInBytes</th>\n",
       "      <th>nodeCount</th>\n",
       "      <th>relationshipCount</th>\n",
       "      <th>configuration</th>\n",
       "      <th>density</th>\n",
       "      <th>creationTime</th>\n",
       "      <th>modificationTime</th>\n",
       "      <th>schema</th>\n",
       "    </tr>\n",
       "  </thead>\n",
       "  <tbody>\n",
       "    <tr>\n",
       "      <th>0</th>\n",
       "      <td>{'p99': 6, 'min': 0, 'max': 9, 'mean': 1.63934...</td>\n",
       "      <td>myGraph</td>\n",
       "      <td>neo4j</td>\n",
       "      <td>298 KiB</td>\n",
       "      <td>305736</td>\n",
       "      <td>61</td>\n",
       "      <td>100</td>\n",
       "      <td>{'relationshipProjection': {'__ALL__': {'orien...</td>\n",
       "      <td>0.027322</td>\n",
       "      <td>2022-11-11T08:51:15.843296200+01:00</td>\n",
       "      <td>2022-11-11T08:51:15.850261600+01:00</td>\n",
       "      <td>{'graphProperties': {}, 'relationships': {'__A...</td>\n",
       "    </tr>\n",
       "    <tr>\n",
       "      <th>1</th>\n",
       "      <td>{'p99': 6, 'min': 0, 'max': 9, 'mean': 1.63934...</td>\n",
       "      <td>myGraph_1</td>\n",
       "      <td>neo4j</td>\n",
       "      <td>2363 KiB</td>\n",
       "      <td>2419800</td>\n",
       "      <td>61</td>\n",
       "      <td>100</td>\n",
       "      <td>{}</td>\n",
       "      <td>0.027322</td>\n",
       "      <td>2022-11-11T08:43:32.303128800+01:00</td>\n",
       "      <td>2022-11-11T08:43:32.309131800+01:00</td>\n",
       "      <td>{'graphProperties': {}, 'relationships': {'__A...</td>\n",
       "    </tr>\n",
       "  </tbody>\n",
       "</table>\n",
       "</div>"
      ],
      "text/plain": [
       "                                  degreeDistribution  graphName database  \\\n",
       "0  {'p99': 6, 'min': 0, 'max': 9, 'mean': 1.63934...    myGraph    neo4j   \n",
       "1  {'p99': 6, 'min': 0, 'max': 9, 'mean': 1.63934...  myGraph_1    neo4j   \n",
       "\n",
       "  memoryUsage  sizeInBytes  nodeCount  relationshipCount  \\\n",
       "0     298 KiB       305736         61                100   \n",
       "1    2363 KiB      2419800         61                100   \n",
       "\n",
       "                                       configuration   density  \\\n",
       "0  {'relationshipProjection': {'__ALL__': {'orien...  0.027322   \n",
       "1                                                 {}  0.027322   \n",
       "\n",
       "                          creationTime                     modificationTime  \\\n",
       "0  2022-11-11T08:51:15.843296200+01:00  2022-11-11T08:51:15.850261600+01:00   \n",
       "1  2022-11-11T08:43:32.303128800+01:00  2022-11-11T08:43:32.309131800+01:00   \n",
       "\n",
       "                                              schema  \n",
       "0  {'graphProperties': {}, 'relationships': {'__A...  \n",
       "1  {'graphProperties': {}, 'relationships': {'__A...  "
      ]
     },
     "metadata": {},
     "output_type": "display_data"
    }
   ],
   "source": [
    "result = gds.run_cypher(\n",
    "  \"\"\"\n",
    "    CALL gds.graph.list()\n",
    "  \"\"\"\n",
    ")\n",
    "display(result)"
   ]
  },
  {
   "cell_type": "code",
   "execution_count": 101,
   "metadata": {},
   "outputs": [
    {
     "data": {
      "text/html": [
       "<div>\n",
       "<style scoped>\n",
       "    .dataframe tbody tr th:only-of-type {\n",
       "        vertical-align: middle;\n",
       "    }\n",
       "\n",
       "    .dataframe tbody tr th {\n",
       "        vertical-align: top;\n",
       "    }\n",
       "\n",
       "    .dataframe thead th {\n",
       "        text-align: right;\n",
       "    }\n",
       "</style>\n",
       "<table border=\"1\" class=\"dataframe\">\n",
       "  <thead>\n",
       "    <tr style=\"text-align: right;\">\n",
       "      <th></th>\n",
       "      <th>Jämför_node_1</th>\n",
       "      <th>jämför_node_2</th>\n",
       "      <th>similarity</th>\n",
       "    </tr>\n",
       "  </thead>\n",
       "  <tbody>\n",
       "    <tr>\n",
       "      <th>0</th>\n",
       "      <td>F101</td>\n",
       "      <td>F103</td>\n",
       "      <td>1.000000</td>\n",
       "    </tr>\n",
       "    <tr>\n",
       "      <th>1</th>\n",
       "      <td>F102</td>\n",
       "      <td>Frånluft_hub2</td>\n",
       "      <td>1.000000</td>\n",
       "    </tr>\n",
       "    <tr>\n",
       "      <th>2</th>\n",
       "      <td>F103</td>\n",
       "      <td>F101</td>\n",
       "      <td>1.000000</td>\n",
       "    </tr>\n",
       "    <tr>\n",
       "      <th>3</th>\n",
       "      <td>Frånluft_hub2</td>\n",
       "      <td>F102</td>\n",
       "      <td>1.000000</td>\n",
       "    </tr>\n",
       "    <tr>\n",
       "      <th>4</th>\n",
       "      <td>Matsal</td>\n",
       "      <td>Tilluft_hub9</td>\n",
       "      <td>1.000000</td>\n",
       "    </tr>\n",
       "    <tr>\n",
       "      <th>...</th>\n",
       "      <td>...</td>\n",
       "      <td>...</td>\n",
       "      <td>...</td>\n",
       "    </tr>\n",
       "    <tr>\n",
       "      <th>130</th>\n",
       "      <td>T109</td>\n",
       "      <td>Kontor</td>\n",
       "      <td>0.111111</td>\n",
       "    </tr>\n",
       "    <tr>\n",
       "      <th>131</th>\n",
       "      <td>T114</td>\n",
       "      <td>Kontor</td>\n",
       "      <td>0.111111</td>\n",
       "    </tr>\n",
       "    <tr>\n",
       "      <th>132</th>\n",
       "      <td>T115</td>\n",
       "      <td>Kontor</td>\n",
       "      <td>0.111111</td>\n",
       "    </tr>\n",
       "    <tr>\n",
       "      <th>133</th>\n",
       "      <td>Zon1</td>\n",
       "      <td>Zon2</td>\n",
       "      <td>0.111111</td>\n",
       "    </tr>\n",
       "    <tr>\n",
       "      <th>134</th>\n",
       "      <td>Zon2</td>\n",
       "      <td>Zon1</td>\n",
       "      <td>0.111111</td>\n",
       "    </tr>\n",
       "  </tbody>\n",
       "</table>\n",
       "<p>135 rows × 3 columns</p>\n",
       "</div>"
      ],
      "text/plain": [
       "     Jämför_node_1  jämför_node_2  similarity\n",
       "0             F101           F103    1.000000\n",
       "1             F102  Frånluft_hub2    1.000000\n",
       "2             F103           F101    1.000000\n",
       "3    Frånluft_hub2           F102    1.000000\n",
       "4           Matsal   Tilluft_hub9    1.000000\n",
       "..             ...            ...         ...\n",
       "130           T109         Kontor    0.111111\n",
       "131           T114         Kontor    0.111111\n",
       "132           T115         Kontor    0.111111\n",
       "133           Zon1           Zon2    0.111111\n",
       "134           Zon2           Zon1    0.111111\n",
       "\n",
       "[135 rows x 3 columns]"
      ]
     },
     "execution_count": 101,
     "metadata": {},
     "output_type": "execute_result"
    }
   ],
   "source": [
    "result = gds.run_cypher(\n",
    "  \"\"\"\n",
    "CALL gds.nodeSimilarity.stream('myGraph')\n",
    "YIELD node1, node2, similarity\n",
    "RETURN gds.util.asNode(node1).name AS Jämför_node_1, gds.util.asNode(node2).name AS jämför_node_2, similarity\n",
    "ORDER BY similarity DESCENDING, Jämför_node_1, jämför_node_2\n",
    "  \"\"\"\n",
    ")\n",
    "\n",
    "result"
   ]
  },
  {
   "cell_type": "code",
   "execution_count": 102,
   "metadata": {},
   "outputs": [
    {
     "data": {
      "text/plain": [
       "Text(13.819444444444459, 0.5, 'Antal Noder')"
      ]
     },
     "execution_count": 102,
     "metadata": {},
     "output_type": "execute_result"
    },
    {
     "data": {
      "image/png": "[encoded data removed]",
      "text/plain": [
       "<Figure size 1050x700 with 1 Axes>"
      ]
     },
     "metadata": {},
     "output_type": "display_data"
    }
   ],
   "source": [
    "sns.displot(data=result, x=\"similarity\", height=7, aspect=1.5)\n",
    "plt.ylabel(\"Antal Noder\")"
   ]
  },
  {
   "cell_type": "markdown",
   "metadata": {},
   "source": [
    "### PageRank\n",
    "#### PageRank-algoritmen mäter vikten av varje nod i grafen, baserat på antalet inkommande relationer och vikten av motsvarande källnoder. Det underliggande antagandet är grovt sett att en node bara är lika viktig som de noder som länkar till den."
   ]
  },
  {
   "cell_type": "code",
   "execution_count": 31,
   "metadata": {},
   "outputs": [
    {
     "data": {
      "text/html": [
       "<div>\n",
       "<style scoped>\n",
       "    .dataframe tbody tr th:only-of-type {\n",
       "        vertical-align: middle;\n",
       "    }\n",
       "\n",
       "    .dataframe tbody tr th {\n",
       "        vertical-align: top;\n",
       "    }\n",
       "\n",
       "    .dataframe thead th {\n",
       "        text-align: right;\n",
       "    }\n",
       "</style>\n",
       "<table border=\"1\" class=\"dataframe\">\n",
       "  <thead>\n",
       "    <tr style=\"text-align: right;\">\n",
       "      <th></th>\n",
       "      <th>nodeProjection</th>\n",
       "      <th>relationshipProjection</th>\n",
       "      <th>graphName</th>\n",
       "      <th>nodeCount</th>\n",
       "      <th>relationshipCount</th>\n",
       "      <th>projectMillis</th>\n",
       "    </tr>\n",
       "  </thead>\n",
       "  <tbody>\n",
       "    <tr>\n",
       "      <th>0</th>\n",
       "      <td>{'__ALL__': {'label': '*', 'properties': {}}}</td>\n",
       "      <td>{'__ALL__': {'orientation': 'NATURAL', 'aggreg...</td>\n",
       "      <td>myGraph_2</td>\n",
       "      <td>61</td>\n",
       "      <td>100</td>\n",
       "      <td>6</td>\n",
       "    </tr>\n",
       "  </tbody>\n",
       "</table>\n",
       "</div>"
      ],
      "text/plain": [
       "                                  nodeProjection  \\\n",
       "0  {'__ALL__': {'label': '*', 'properties': {}}}   \n",
       "\n",
       "                              relationshipProjection  graphName  nodeCount  \\\n",
       "0  {'__ALL__': {'orientation': 'NATURAL', 'aggreg...  myGraph_2         61   \n",
       "\n",
       "   relationshipCount  projectMillis  \n",
       "0                100              6  "
      ]
     },
     "metadata": {},
     "output_type": "display_data"
    }
   ],
   "source": [
    "result = gds.run_cypher(\n",
    "  \"\"\"\n",
    "CALL gds.graph.project('myGraph_2','*','*')\n",
    "  \"\"\"\n",
    ")\n",
    "display(result)"
   ]
  },
  {
   "cell_type": "code",
   "execution_count": 74,
   "metadata": {},
   "outputs": [],
   "source": [
    "result = gds.run_cypher(\n",
    "  \"\"\"\n",
    "CALL gds.pageRank.stream('myGraph_2')\n",
    "YIELD nodeId, score\n",
    "RETURN gds.util.asNode(nodeId).name AS name, score\n",
    "ORDER BY score DESC, name ASC\n",
    "  \"\"\"\n",
    ")\n",
    "\n",
    "df =result.head(10)"
   ]
  },
  {
   "cell_type": "code",
   "execution_count": 99,
   "metadata": {},
   "outputs": [
    {
     "data": {
      "text/plain": [
       "Text(0.5, 7.350694444444445, 'De första 10 viktiga noder')"
      ]
     },
     "execution_count": 99,
     "metadata": {},
     "output_type": "execute_result"
    },
    {
     "data": {
      "image/png": "[encoded data removed]",
      "text/plain": [
       "<Figure size 1050x700 with 1 Axes>"
      ]
     },
     "metadata": {},
     "output_type": "display_data"
    }
   ],
   "source": [
    "sns.catplot(data=df, x=\"name\",y=\"score\" ,height=7, aspect=1.5)\n",
    "plt.xlabel(\"De första 10 viktiga noder\")"
   ]
  },
  {
   "cell_type": "code",
   "execution_count": 149,
   "metadata": {},
   "outputs": [
    {
     "name": "stdout",
     "output_type": "stream",
     "text": [
      "<class 'pandas.core.frame.DataFrame'>\n",
      "RangeIndex: 1380 entries, 0 to 1379\n",
      "Data columns (total 4 columns):\n",
      " #   Column  Non-Null Count  Dtype \n",
      "---  ------  --------------  ----- \n",
      " 0   n       1380 non-null   object\n",
      " 1   t       1380 non-null   object\n",
      " 2   s       1380 non-null   object\n",
      " 3   a       1380 non-null   object\n",
      "dtypes: object(4)\n",
      "memory usage: 43.2+ KB\n"
     ]
    }
   ],
   "source": [
    "result.info()"
   ]
  }
 ],
 "metadata": {
  "kernelspec": {
   "display_name": "Python 3.10.8 ('env': venv)",
   "language": "python",
   "name": "python3"
  },
  "language_info": {
   "codemirror_mode": {
    "name": "ipython",
    "version": 3
   },
   "file_extension": ".py",
   "mimetype": "text/x-python",
   "name": "python",
   "nbconvert_exporter": "python",
   "pygments_lexer": "ipython3",
   "version": "3.10.8"
  },
  "orig_nbformat": 4,
  "vscode": {
   "interpreter": {
    "hash": "24b2516218f01c8cdf8c63b4b81a21b8a28a7afd0d34805806f72160f6e0c712"
   }
  }
 },
 "nbformat": 4,
 "nbformat_minor": 2
}
